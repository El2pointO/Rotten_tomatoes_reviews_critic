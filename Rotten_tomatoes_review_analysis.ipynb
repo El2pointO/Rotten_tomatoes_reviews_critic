{
 "cells": [
  {
   "cell_type": "markdown",
   "metadata": {},
   "source": []
  },
  {
   "cell_type": "code",
   "execution_count": 90,
   "metadata": {},
   "outputs": [],
   "source": [
    "import numpy as np\n",
    "import pandas as pd\n",
    "import matplotlib.pyplot as plt\n",
    "import seaborn as sns\n",
    "from scipy.stats import iqr\n",
    "from sklearn.preprocessing import StandardScaler\n",
    "from sklearn.model_selection import train_test_split\n",
    "from sklearn.tree import DecisionTreeClassifier, plot_tree\n",
    "from sklearn.ensemble import RandomForestClassifier\n",
    "from sklearn.metrics import accuracy_score, classification_report, confusion_matrix\n",
    "from sklearn.utils.class_weight import compute_class_weight\n",
    "from xgboost import XGBClassifier\n",
    "from functools import reduce"
   ]
  },
  {
   "cell_type": "code",
   "execution_count": 22,
   "metadata": {},
   "outputs": [],
   "source": [
    "df = pd.read_csv('C:/Users/lalit\\Desktop/lalith/ai_practice/Datasets/rotten_tomatoes_movies.csv')"
   ]
  },
  {
   "cell_type": "code",
   "execution_count": 23,
   "metadata": {},
   "outputs": [
    {
     "data": {
      "text/html": [
       "<div>\n",
       "<style scoped>\n",
       "    .dataframe tbody tr th:only-of-type {\n",
       "        vertical-align: middle;\n",
       "    }\n",
       "\n",
       "    .dataframe tbody tr th {\n",
       "        vertical-align: top;\n",
       "    }\n",
       "\n",
       "    .dataframe thead th {\n",
       "        text-align: right;\n",
       "    }\n",
       "</style>\n",
       "<table border=\"1\" class=\"dataframe\">\n",
       "  <thead>\n",
       "    <tr style=\"text-align: right;\">\n",
       "      <th></th>\n",
       "      <th>rotten_tomatoes_link</th>\n",
       "      <th>movie_title</th>\n",
       "      <th>movie_info</th>\n",
       "      <th>critics_consensus</th>\n",
       "      <th>content_rating</th>\n",
       "      <th>genres</th>\n",
       "      <th>directors</th>\n",
       "      <th>authors</th>\n",
       "      <th>actors</th>\n",
       "      <th>original_release_date</th>\n",
       "      <th>...</th>\n",
       "      <th>production_company</th>\n",
       "      <th>tomatometer_status</th>\n",
       "      <th>tomatometer_rating</th>\n",
       "      <th>tomatometer_count</th>\n",
       "      <th>audience_status</th>\n",
       "      <th>audience_rating</th>\n",
       "      <th>audience_count</th>\n",
       "      <th>tomatometer_top_critics_count</th>\n",
       "      <th>tomatometer_fresh_critics_count</th>\n",
       "      <th>tomatometer_rotten_critics_count</th>\n",
       "    </tr>\n",
       "  </thead>\n",
       "  <tbody>\n",
       "    <tr>\n",
       "      <th>0</th>\n",
       "      <td>m/0814255</td>\n",
       "      <td>Percy Jackson &amp; the Olympians: The Lightning T...</td>\n",
       "      <td>Always trouble-prone, the life of teenager Per...</td>\n",
       "      <td>Though it may seem like just another Harry Pot...</td>\n",
       "      <td>PG</td>\n",
       "      <td>Action &amp; Adventure, Comedy, Drama, Science Fic...</td>\n",
       "      <td>Chris Columbus</td>\n",
       "      <td>Craig Titley, Chris Columbus, Rick Riordan</td>\n",
       "      <td>Logan Lerman, Brandon T. Jackson, Alexandra Da...</td>\n",
       "      <td>2010-02-12</td>\n",
       "      <td>...</td>\n",
       "      <td>20th Century Fox</td>\n",
       "      <td>Rotten</td>\n",
       "      <td>49.0</td>\n",
       "      <td>149.0</td>\n",
       "      <td>Spilled</td>\n",
       "      <td>53.0</td>\n",
       "      <td>254421.0</td>\n",
       "      <td>43</td>\n",
       "      <td>73</td>\n",
       "      <td>76</td>\n",
       "    </tr>\n",
       "    <tr>\n",
       "      <th>1</th>\n",
       "      <td>m/0878835</td>\n",
       "      <td>Please Give</td>\n",
       "      <td>Kate (Catherine Keener) and her husband Alex (...</td>\n",
       "      <td>Nicole Holofcener's newest might seem slight i...</td>\n",
       "      <td>R</td>\n",
       "      <td>Comedy</td>\n",
       "      <td>Nicole Holofcener</td>\n",
       "      <td>Nicole Holofcener</td>\n",
       "      <td>Catherine Keener, Amanda Peet, Oliver Platt, R...</td>\n",
       "      <td>2010-04-30</td>\n",
       "      <td>...</td>\n",
       "      <td>Sony Pictures Classics</td>\n",
       "      <td>Certified-Fresh</td>\n",
       "      <td>87.0</td>\n",
       "      <td>142.0</td>\n",
       "      <td>Upright</td>\n",
       "      <td>64.0</td>\n",
       "      <td>11574.0</td>\n",
       "      <td>44</td>\n",
       "      <td>123</td>\n",
       "      <td>19</td>\n",
       "    </tr>\n",
       "    <tr>\n",
       "      <th>2</th>\n",
       "      <td>m/10</td>\n",
       "      <td>10</td>\n",
       "      <td>A successful, middle-aged Hollywood songwriter...</td>\n",
       "      <td>Blake Edwards' bawdy comedy may not score a pe...</td>\n",
       "      <td>R</td>\n",
       "      <td>Comedy, Romance</td>\n",
       "      <td>Blake Edwards</td>\n",
       "      <td>Blake Edwards</td>\n",
       "      <td>Dudley Moore, Bo Derek, Julie Andrews, Robert ...</td>\n",
       "      <td>1979-10-05</td>\n",
       "      <td>...</td>\n",
       "      <td>Waner Bros.</td>\n",
       "      <td>Fresh</td>\n",
       "      <td>67.0</td>\n",
       "      <td>24.0</td>\n",
       "      <td>Spilled</td>\n",
       "      <td>53.0</td>\n",
       "      <td>14684.0</td>\n",
       "      <td>2</td>\n",
       "      <td>16</td>\n",
       "      <td>8</td>\n",
       "    </tr>\n",
       "    <tr>\n",
       "      <th>3</th>\n",
       "      <td>m/1000013-12_angry_men</td>\n",
       "      <td>12 Angry Men (Twelve Angry Men)</td>\n",
       "      <td>Following the closing arguments in a murder tr...</td>\n",
       "      <td>Sidney Lumet's feature debut is a superbly wri...</td>\n",
       "      <td>NR</td>\n",
       "      <td>Classics, Drama</td>\n",
       "      <td>Sidney Lumet</td>\n",
       "      <td>Reginald Rose</td>\n",
       "      <td>Martin Balsam, John Fiedler, Lee J. Cobb, E.G....</td>\n",
       "      <td>1957-04-13</td>\n",
       "      <td>...</td>\n",
       "      <td>Criterion Collection</td>\n",
       "      <td>Certified-Fresh</td>\n",
       "      <td>100.0</td>\n",
       "      <td>54.0</td>\n",
       "      <td>Upright</td>\n",
       "      <td>97.0</td>\n",
       "      <td>105386.0</td>\n",
       "      <td>6</td>\n",
       "      <td>54</td>\n",
       "      <td>0</td>\n",
       "    </tr>\n",
       "    <tr>\n",
       "      <th>4</th>\n",
       "      <td>m/1000079-20000_leagues_under_the_sea</td>\n",
       "      <td>20,000 Leagues Under The Sea</td>\n",
       "      <td>In 1866, Professor Pierre M. Aronnax (Paul Luk...</td>\n",
       "      <td>One of Disney's finest live-action adventures,...</td>\n",
       "      <td>G</td>\n",
       "      <td>Action &amp; Adventure, Drama, Kids &amp; Family</td>\n",
       "      <td>Richard Fleischer</td>\n",
       "      <td>Earl Felton</td>\n",
       "      <td>James Mason, Kirk Douglas, Paul Lukas, Peter L...</td>\n",
       "      <td>1954-01-01</td>\n",
       "      <td>...</td>\n",
       "      <td>Disney</td>\n",
       "      <td>Fresh</td>\n",
       "      <td>89.0</td>\n",
       "      <td>27.0</td>\n",
       "      <td>Upright</td>\n",
       "      <td>74.0</td>\n",
       "      <td>68918.0</td>\n",
       "      <td>5</td>\n",
       "      <td>24</td>\n",
       "      <td>3</td>\n",
       "    </tr>\n",
       "  </tbody>\n",
       "</table>\n",
       "<p>5 rows × 22 columns</p>\n",
       "</div>"
      ],
      "text/plain": [
       "                    rotten_tomatoes_link  \\\n",
       "0                              m/0814255   \n",
       "1                              m/0878835   \n",
       "2                                   m/10   \n",
       "3                 m/1000013-12_angry_men   \n",
       "4  m/1000079-20000_leagues_under_the_sea   \n",
       "\n",
       "                                         movie_title  \\\n",
       "0  Percy Jackson & the Olympians: The Lightning T...   \n",
       "1                                        Please Give   \n",
       "2                                                 10   \n",
       "3                    12 Angry Men (Twelve Angry Men)   \n",
       "4                       20,000 Leagues Under The Sea   \n",
       "\n",
       "                                          movie_info  \\\n",
       "0  Always trouble-prone, the life of teenager Per...   \n",
       "1  Kate (Catherine Keener) and her husband Alex (...   \n",
       "2  A successful, middle-aged Hollywood songwriter...   \n",
       "3  Following the closing arguments in a murder tr...   \n",
       "4  In 1866, Professor Pierre M. Aronnax (Paul Luk...   \n",
       "\n",
       "                                   critics_consensus content_rating  \\\n",
       "0  Though it may seem like just another Harry Pot...             PG   \n",
       "1  Nicole Holofcener's newest might seem slight i...              R   \n",
       "2  Blake Edwards' bawdy comedy may not score a pe...              R   \n",
       "3  Sidney Lumet's feature debut is a superbly wri...             NR   \n",
       "4  One of Disney's finest live-action adventures,...              G   \n",
       "\n",
       "                                              genres          directors  \\\n",
       "0  Action & Adventure, Comedy, Drama, Science Fic...     Chris Columbus   \n",
       "1                                             Comedy  Nicole Holofcener   \n",
       "2                                    Comedy, Romance      Blake Edwards   \n",
       "3                                    Classics, Drama       Sidney Lumet   \n",
       "4           Action & Adventure, Drama, Kids & Family  Richard Fleischer   \n",
       "\n",
       "                                      authors  \\\n",
       "0  Craig Titley, Chris Columbus, Rick Riordan   \n",
       "1                           Nicole Holofcener   \n",
       "2                               Blake Edwards   \n",
       "3                               Reginald Rose   \n",
       "4                                 Earl Felton   \n",
       "\n",
       "                                              actors original_release_date  \\\n",
       "0  Logan Lerman, Brandon T. Jackson, Alexandra Da...            2010-02-12   \n",
       "1  Catherine Keener, Amanda Peet, Oliver Platt, R...            2010-04-30   \n",
       "2  Dudley Moore, Bo Derek, Julie Andrews, Robert ...            1979-10-05   \n",
       "3  Martin Balsam, John Fiedler, Lee J. Cobb, E.G....            1957-04-13   \n",
       "4  James Mason, Kirk Douglas, Paul Lukas, Peter L...            1954-01-01   \n",
       "\n",
       "   ...      production_company  tomatometer_status tomatometer_rating  \\\n",
       "0  ...        20th Century Fox              Rotten               49.0   \n",
       "1  ...  Sony Pictures Classics     Certified-Fresh               87.0   \n",
       "2  ...             Waner Bros.               Fresh               67.0   \n",
       "3  ...    Criterion Collection     Certified-Fresh              100.0   \n",
       "4  ...                  Disney               Fresh               89.0   \n",
       "\n",
       "  tomatometer_count  audience_status  audience_rating audience_count  \\\n",
       "0             149.0          Spilled             53.0       254421.0   \n",
       "1             142.0          Upright             64.0        11574.0   \n",
       "2              24.0          Spilled             53.0        14684.0   \n",
       "3              54.0          Upright             97.0       105386.0   \n",
       "4              27.0          Upright             74.0        68918.0   \n",
       "\n",
       "   tomatometer_top_critics_count  tomatometer_fresh_critics_count  \\\n",
       "0                             43                               73   \n",
       "1                             44                              123   \n",
       "2                              2                               16   \n",
       "3                              6                               54   \n",
       "4                              5                               24   \n",
       "\n",
       "   tomatometer_rotten_critics_count  \n",
       "0                                76  \n",
       "1                                19  \n",
       "2                                 8  \n",
       "3                                 0  \n",
       "4                                 3  \n",
       "\n",
       "[5 rows x 22 columns]"
      ]
     },
     "execution_count": 23,
     "metadata": {},
     "output_type": "execute_result"
    }
   ],
   "source": [
    "df.head()"
   ]
  },
  {
   "cell_type": "code",
   "execution_count": 24,
   "metadata": {},
   "outputs": [
    {
     "data": {
      "text/html": [
       "<div>\n",
       "<style scoped>\n",
       "    .dataframe tbody tr th:only-of-type {\n",
       "        vertical-align: middle;\n",
       "    }\n",
       "\n",
       "    .dataframe tbody tr th {\n",
       "        vertical-align: top;\n",
       "    }\n",
       "\n",
       "    .dataframe thead th {\n",
       "        text-align: right;\n",
       "    }\n",
       "</style>\n",
       "<table border=\"1\" class=\"dataframe\">\n",
       "  <thead>\n",
       "    <tr style=\"text-align: right;\">\n",
       "      <th></th>\n",
       "      <th>runtime</th>\n",
       "      <th>tomatometer_rating</th>\n",
       "      <th>tomatometer_count</th>\n",
       "      <th>audience_rating</th>\n",
       "      <th>audience_count</th>\n",
       "      <th>tomatometer_top_critics_count</th>\n",
       "      <th>tomatometer_fresh_critics_count</th>\n",
       "      <th>tomatometer_rotten_critics_count</th>\n",
       "    </tr>\n",
       "  </thead>\n",
       "  <tbody>\n",
       "    <tr>\n",
       "      <th>count</th>\n",
       "      <td>17398.000000</td>\n",
       "      <td>17668.000000</td>\n",
       "      <td>17668.000000</td>\n",
       "      <td>17416.000000</td>\n",
       "      <td>1.741500e+04</td>\n",
       "      <td>17712.000000</td>\n",
       "      <td>17712.000000</td>\n",
       "      <td>17712.000000</td>\n",
       "    </tr>\n",
       "    <tr>\n",
       "      <th>mean</th>\n",
       "      <td>102.214048</td>\n",
       "      <td>60.884763</td>\n",
       "      <td>57.139801</td>\n",
       "      <td>60.554260</td>\n",
       "      <td>1.439401e+05</td>\n",
       "      <td>14.586326</td>\n",
       "      <td>36.374831</td>\n",
       "      <td>20.703139</td>\n",
       "    </tr>\n",
       "    <tr>\n",
       "      <th>std</th>\n",
       "      <td>18.702511</td>\n",
       "      <td>28.443348</td>\n",
       "      <td>68.370047</td>\n",
       "      <td>20.543369</td>\n",
       "      <td>1.763577e+06</td>\n",
       "      <td>15.146349</td>\n",
       "      <td>52.601038</td>\n",
       "      <td>30.248435</td>\n",
       "    </tr>\n",
       "    <tr>\n",
       "      <th>min</th>\n",
       "      <td>5.000000</td>\n",
       "      <td>0.000000</td>\n",
       "      <td>5.000000</td>\n",
       "      <td>0.000000</td>\n",
       "      <td>5.000000e+00</td>\n",
       "      <td>0.000000</td>\n",
       "      <td>0.000000</td>\n",
       "      <td>0.000000</td>\n",
       "    </tr>\n",
       "    <tr>\n",
       "      <th>25%</th>\n",
       "      <td>90.000000</td>\n",
       "      <td>38.000000</td>\n",
       "      <td>12.000000</td>\n",
       "      <td>45.000000</td>\n",
       "      <td>7.075000e+02</td>\n",
       "      <td>3.000000</td>\n",
       "      <td>6.000000</td>\n",
       "      <td>3.000000</td>\n",
       "    </tr>\n",
       "    <tr>\n",
       "      <th>50%</th>\n",
       "      <td>99.000000</td>\n",
       "      <td>67.000000</td>\n",
       "      <td>28.000000</td>\n",
       "      <td>63.000000</td>\n",
       "      <td>4.277000e+03</td>\n",
       "      <td>8.000000</td>\n",
       "      <td>16.000000</td>\n",
       "      <td>8.000000</td>\n",
       "    </tr>\n",
       "    <tr>\n",
       "      <th>75%</th>\n",
       "      <td>111.000000</td>\n",
       "      <td>86.000000</td>\n",
       "      <td>75.000000</td>\n",
       "      <td>78.000000</td>\n",
       "      <td>2.498800e+04</td>\n",
       "      <td>23.000000</td>\n",
       "      <td>44.000000</td>\n",
       "      <td>24.000000</td>\n",
       "    </tr>\n",
       "    <tr>\n",
       "      <th>max</th>\n",
       "      <td>266.000000</td>\n",
       "      <td>100.000000</td>\n",
       "      <td>574.000000</td>\n",
       "      <td>100.000000</td>\n",
       "      <td>3.579764e+07</td>\n",
       "      <td>69.000000</td>\n",
       "      <td>497.000000</td>\n",
       "      <td>303.000000</td>\n",
       "    </tr>\n",
       "  </tbody>\n",
       "</table>\n",
       "</div>"
      ],
      "text/plain": [
       "            runtime  tomatometer_rating  tomatometer_count  audience_rating  \\\n",
       "count  17398.000000        17668.000000       17668.000000     17416.000000   \n",
       "mean     102.214048           60.884763          57.139801        60.554260   \n",
       "std       18.702511           28.443348          68.370047        20.543369   \n",
       "min        5.000000            0.000000           5.000000         0.000000   \n",
       "25%       90.000000           38.000000          12.000000        45.000000   \n",
       "50%       99.000000           67.000000          28.000000        63.000000   \n",
       "75%      111.000000           86.000000          75.000000        78.000000   \n",
       "max      266.000000          100.000000         574.000000       100.000000   \n",
       "\n",
       "       audience_count  tomatometer_top_critics_count  \\\n",
       "count    1.741500e+04                   17712.000000   \n",
       "mean     1.439401e+05                      14.586326   \n",
       "std      1.763577e+06                      15.146349   \n",
       "min      5.000000e+00                       0.000000   \n",
       "25%      7.075000e+02                       3.000000   \n",
       "50%      4.277000e+03                       8.000000   \n",
       "75%      2.498800e+04                      23.000000   \n",
       "max      3.579764e+07                      69.000000   \n",
       "\n",
       "       tomatometer_fresh_critics_count  tomatometer_rotten_critics_count  \n",
       "count                     17712.000000                      17712.000000  \n",
       "mean                         36.374831                         20.703139  \n",
       "std                          52.601038                         30.248435  \n",
       "min                           0.000000                          0.000000  \n",
       "25%                           6.000000                          3.000000  \n",
       "50%                          16.000000                          8.000000  \n",
       "75%                          44.000000                         24.000000  \n",
       "max                         497.000000                        303.000000  "
      ]
     },
     "execution_count": 24,
     "metadata": {},
     "output_type": "execute_result"
    }
   ],
   "source": [
    "df.describe()"
   ]
  },
  {
   "cell_type": "code",
   "execution_count": 10,
   "metadata": {},
   "outputs": [
    {
     "data": {
      "text/html": [
       "<div>\n",
       "<style scoped>\n",
       "    .dataframe tbody tr th:only-of-type {\n",
       "        vertical-align: middle;\n",
       "    }\n",
       "\n",
       "    .dataframe tbody tr th {\n",
       "        vertical-align: top;\n",
       "    }\n",
       "\n",
       "    .dataframe thead th {\n",
       "        text-align: right;\n",
       "    }\n",
       "</style>\n",
       "<table border=\"1\" class=\"dataframe\">\n",
       "  <thead>\n",
       "    <tr style=\"text-align: right;\">\n",
       "      <th></th>\n",
       "      <th>rotten_tomatoes_link</th>\n",
       "      <th>critic_name</th>\n",
       "      <th>top_critic</th>\n",
       "      <th>publisher_name</th>\n",
       "      <th>review_type</th>\n",
       "      <th>review_score</th>\n",
       "      <th>review_date</th>\n",
       "      <th>review_content</th>\n",
       "    </tr>\n",
       "  </thead>\n",
       "  <tbody>\n",
       "    <tr>\n",
       "      <th>1130012</th>\n",
       "      <td>m/zulu_dawn</td>\n",
       "      <td>Chuck O'Leary</td>\n",
       "      <td>False</td>\n",
       "      <td>Fantastica Daily</td>\n",
       "      <td>Rotten</td>\n",
       "      <td>2/5</td>\n",
       "      <td>2005-11-02</td>\n",
       "      <td>NaN</td>\n",
       "    </tr>\n",
       "    <tr>\n",
       "      <th>1130013</th>\n",
       "      <td>m/zulu_dawn</td>\n",
       "      <td>Ken Hanke</td>\n",
       "      <td>False</td>\n",
       "      <td>Mountain Xpress (Asheville, NC)</td>\n",
       "      <td>Fresh</td>\n",
       "      <td>3.5/5</td>\n",
       "      <td>2007-03-07</td>\n",
       "      <td>Seen today, it's not only a startling indictme...</td>\n",
       "    </tr>\n",
       "    <tr>\n",
       "      <th>1130014</th>\n",
       "      <td>m/zulu_dawn</td>\n",
       "      <td>Dennis Schwartz</td>\n",
       "      <td>False</td>\n",
       "      <td>Dennis Schwartz Movie Reviews</td>\n",
       "      <td>Fresh</td>\n",
       "      <td>B+</td>\n",
       "      <td>2010-09-16</td>\n",
       "      <td>A rousing visual spectacle that's a prequel of...</td>\n",
       "    </tr>\n",
       "    <tr>\n",
       "      <th>1130015</th>\n",
       "      <td>m/zulu_dawn</td>\n",
       "      <td>Christopher Lloyd</td>\n",
       "      <td>False</td>\n",
       "      <td>Sarasota Herald-Tribune</td>\n",
       "      <td>Rotten</td>\n",
       "      <td>3.5/5</td>\n",
       "      <td>2011-02-28</td>\n",
       "      <td>A simple two-act story: Prelude to war, and th...</td>\n",
       "    </tr>\n",
       "    <tr>\n",
       "      <th>1130016</th>\n",
       "      <td>m/zulu_dawn</td>\n",
       "      <td>Brent McKnight</td>\n",
       "      <td>False</td>\n",
       "      <td>The Last Thing I See</td>\n",
       "      <td>Rotten</td>\n",
       "      <td>C</td>\n",
       "      <td>2020-07-09</td>\n",
       "      <td>Rides the line between being a pure artifact o...</td>\n",
       "    </tr>\n",
       "  </tbody>\n",
       "</table>\n",
       "</div>"
      ],
      "text/plain": [
       "        rotten_tomatoes_link        critic_name  top_critic  \\\n",
       "1130012          m/zulu_dawn      Chuck O'Leary       False   \n",
       "1130013          m/zulu_dawn          Ken Hanke       False   \n",
       "1130014          m/zulu_dawn    Dennis Schwartz       False   \n",
       "1130015          m/zulu_dawn  Christopher Lloyd       False   \n",
       "1130016          m/zulu_dawn     Brent McKnight       False   \n",
       "\n",
       "                          publisher_name review_type review_score review_date  \\\n",
       "1130012                 Fantastica Daily      Rotten          2/5  2005-11-02   \n",
       "1130013  Mountain Xpress (Asheville, NC)       Fresh        3.5/5  2007-03-07   \n",
       "1130014    Dennis Schwartz Movie Reviews       Fresh           B+  2010-09-16   \n",
       "1130015          Sarasota Herald-Tribune      Rotten        3.5/5  2011-02-28   \n",
       "1130016             The Last Thing I See      Rotten            C  2020-07-09   \n",
       "\n",
       "                                            review_content  \n",
       "1130012                                                NaN  \n",
       "1130013  Seen today, it's not only a startling indictme...  \n",
       "1130014  A rousing visual spectacle that's a prequel of...  \n",
       "1130015  A simple two-act story: Prelude to war, and th...  \n",
       "1130016  Rides the line between being a pure artifact o...  "
      ]
     },
     "execution_count": 10,
     "metadata": {},
     "output_type": "execute_result"
    }
   ],
   "source": [
    "df.tail()"
   ]
  },
  {
   "cell_type": "code",
   "execution_count": 25,
   "metadata": {},
   "outputs": [
    {
     "name": "stdout",
     "output_type": "stream",
     "text": [
      "<class 'pandas.core.frame.DataFrame'>\n",
      "RangeIndex: 17712 entries, 0 to 17711\n",
      "Data columns (total 22 columns):\n",
      " #   Column                            Non-Null Count  Dtype  \n",
      "---  ------                            --------------  -----  \n",
      " 0   rotten_tomatoes_link              17712 non-null  object \n",
      " 1   movie_title                       17712 non-null  object \n",
      " 2   movie_info                        17391 non-null  object \n",
      " 3   critics_consensus                 9134 non-null   object \n",
      " 4   content_rating                    17712 non-null  object \n",
      " 5   genres                            17693 non-null  object \n",
      " 6   directors                         17518 non-null  object \n",
      " 7   authors                           16170 non-null  object \n",
      " 8   actors                            17360 non-null  object \n",
      " 9   original_release_date             16546 non-null  object \n",
      " 10  streaming_release_date            17328 non-null  object \n",
      " 11  runtime                           17398 non-null  float64\n",
      " 12  production_company                17213 non-null  object \n",
      " 13  tomatometer_status                17668 non-null  object \n",
      " 14  tomatometer_rating                17668 non-null  float64\n",
      " 15  tomatometer_count                 17668 non-null  float64\n",
      " 16  audience_status                   17264 non-null  object \n",
      " 17  audience_rating                   17416 non-null  float64\n",
      " 18  audience_count                    17415 non-null  float64\n",
      " 19  tomatometer_top_critics_count     17712 non-null  int64  \n",
      " 20  tomatometer_fresh_critics_count   17712 non-null  int64  \n",
      " 21  tomatometer_rotten_critics_count  17712 non-null  int64  \n",
      "dtypes: float64(5), int64(3), object(14)\n",
      "memory usage: 3.0+ MB\n"
     ]
    }
   ],
   "source": [
    "df.info()"
   ]
  },
  {
   "cell_type": "markdown",
   "metadata": {},
   "source": [
    "# Inference\n"
   ]
  },
  {
   "cell_type": "code",
   "execution_count": 26,
   "metadata": {},
   "outputs": [
    {
     "data": {
      "text/plain": [
       "critics_consensus                   8578\n",
       "authors                             1542\n",
       "original_release_date               1166\n",
       "production_company                   499\n",
       "audience_status                      448\n",
       "streaming_release_date               384\n",
       "actors                               352\n",
       "movie_info                           321\n",
       "runtime                              314\n",
       "audience_count                       297\n",
       "audience_rating                      296\n",
       "directors                            194\n",
       "tomatometer_status                    44\n",
       "tomatometer_rating                    44\n",
       "tomatometer_count                     44\n",
       "genres                                19\n",
       "tomatometer_top_critics_count          0\n",
       "tomatometer_fresh_critics_count        0\n",
       "rotten_tomatoes_link                   0\n",
       "movie_title                            0\n",
       "content_rating                         0\n",
       "tomatometer_rotten_critics_count       0\n",
       "dtype: int64"
      ]
     },
     "execution_count": 26,
     "metadata": {},
     "output_type": "execute_result"
    }
   ],
   "source": [
    "df.isnull().sum().sort_values(ascending=False)"
   ]
  },
  {
   "cell_type": "code",
   "execution_count": 28,
   "metadata": {},
   "outputs": [],
   "source": [
    "df.drop('critics_consensus', axis = 1, inplace = True )"
   ]
  },
  {
   "cell_type": "code",
   "execution_count": 29,
   "metadata": {},
   "outputs": [
    {
     "name": "stdout",
     "output_type": "stream",
     "text": [
      "<class 'pandas.core.frame.DataFrame'>\n",
      "RangeIndex: 17712 entries, 0 to 17711\n",
      "Data columns (total 21 columns):\n",
      " #   Column                            Non-Null Count  Dtype  \n",
      "---  ------                            --------------  -----  \n",
      " 0   rotten_tomatoes_link              17712 non-null  object \n",
      " 1   movie_title                       17712 non-null  object \n",
      " 2   movie_info                        17391 non-null  object \n",
      " 3   content_rating                    17712 non-null  object \n",
      " 4   genres                            17693 non-null  object \n",
      " 5   directors                         17518 non-null  object \n",
      " 6   authors                           16170 non-null  object \n",
      " 7   actors                            17360 non-null  object \n",
      " 8   original_release_date             16546 non-null  object \n",
      " 9   streaming_release_date            17328 non-null  object \n",
      " 10  runtime                           17398 non-null  float64\n",
      " 11  production_company                17213 non-null  object \n",
      " 12  tomatometer_status                17668 non-null  object \n",
      " 13  tomatometer_rating                17668 non-null  float64\n",
      " 14  tomatometer_count                 17668 non-null  float64\n",
      " 15  audience_status                   17264 non-null  object \n",
      " 16  audience_rating                   17416 non-null  float64\n",
      " 17  audience_count                    17415 non-null  float64\n",
      " 18  tomatometer_top_critics_count     17712 non-null  int64  \n",
      " 19  tomatometer_fresh_critics_count   17712 non-null  int64  \n",
      " 20  tomatometer_rotten_critics_count  17712 non-null  int64  \n",
      "dtypes: float64(5), int64(3), object(13)\n",
      "memory usage: 2.8+ MB\n"
     ]
    }
   ],
   "source": [
    "df.info()"
   ]
  },
  {
   "cell_type": "code",
   "execution_count": 30,
   "metadata": {},
   "outputs": [],
   "source": [
    "df.dropna(inplace = True, axis = 0)"
   ]
  },
  {
   "cell_type": "code",
   "execution_count": 32,
   "metadata": {},
   "outputs": [
    {
     "data": {
      "text/plain": [
       "(14437, 21)"
      ]
     },
     "execution_count": 32,
     "metadata": {},
     "output_type": "execute_result"
    }
   ],
   "source": [
    "df.shape"
   ]
  },
  {
   "cell_type": "code",
   "execution_count": 34,
   "metadata": {},
   "outputs": [
    {
     "data": {
      "text/plain": [
       "0"
      ]
     },
     "execution_count": 34,
     "metadata": {},
     "output_type": "execute_result"
    }
   ],
   "source": [
    "df.duplicated().sum()"
   ]
  },
  {
   "cell_type": "markdown",
   "metadata": {},
   "source": [
    "Exploratory Data Analysis\n"
   ]
  },
  {
   "cell_type": "code",
   "execution_count": 35,
   "metadata": {},
   "outputs": [
    {
     "data": {
      "text/plain": [
       "rotten_tomatoes_link      14437\n",
       "movie_title               14002\n",
       "movie_info                14436\n",
       "content_rating                6\n",
       "genres                      990\n",
       "directors                  7093\n",
       "authors                   11612\n",
       "actors                    14435\n",
       "original_release_date      5337\n",
       "streaming_release_date     2066\n",
       "production_company         2431\n",
       "tomatometer_status            3\n",
       "audience_status               2\n",
       "dtype: int64"
      ]
     },
     "execution_count": 35,
     "metadata": {},
     "output_type": "execute_result"
    }
   ],
   "source": [
    "df.select_dtypes('object').nunique()"
   ]
  },
  {
   "cell_type": "code",
   "execution_count": 36,
   "metadata": {},
   "outputs": [],
   "source": [
    "columns_to_process = ['directors', 'actors', 'authors']\n",
    "\n",
    "for col in columns_to_process:\n",
    "    df[f'num_{col}'] = df[col].apply(lambda x : len(x.split(',')))"
   ]
  },
  {
   "cell_type": "code",
   "execution_count": 37,
   "metadata": {},
   "outputs": [],
   "source": [
    "highest_count = {}\n",
    "for col in columns_to_process:\n",
    "    max_value = df[f'num_{col}'].max()\n",
    "    highest_count[col] = df[df[f'num_{col}'] == max_value]"
   ]
  },
  {
   "cell_type": "code",
   "execution_count": 43,
   "metadata": {},
   "outputs": [
    {
     "name": "stdout",
     "output_type": "stream",
     "text": [
      "Movie with the highest runtime: \n",
      "       runtime          movie_title\n",
      "10872    266.0  Mysteries of Lisbon\n",
      "Movie with the lowest runtime: \n",
      "     runtime                     movie_title\n",
      "704      8.0  Rudolph the Red-Nosed Reindeer\n"
     ]
    }
   ],
   "source": [
    "print(f'Movie with the highest runtime: \\n{df[df[\"runtime\"] == df[\"runtime\"].max()][[\"runtime\", \"movie_title\"]]}')\n",
    "\n",
    "print(f'Movie with the lowest runtime: \\n{df[df[\"runtime\"] == df[\"runtime\"].min()][[\"runtime\", \"movie_title\"]]}')\n"
   ]
  },
  {
   "cell_type": "code",
   "execution_count": 51,
   "metadata": {},
   "outputs": [
    {
     "name": "stdout",
     "output_type": "stream",
     "text": [
      "R        5705\n",
      "NR       3521\n",
      "PG-13    2695\n",
      "PG       1889\n",
      "G         593\n",
      "NC17       34\n",
      "Name: content_rating, dtype: int64\n"
     ]
    },
    {
     "data": {
      "text/plain": [
       "Text(0.5, 1.0, 'Content Rating Counts')"
      ]
     },
     "execution_count": 51,
     "metadata": {},
     "output_type": "execute_result"
    },
    {
     "data": {
      "image/png": "[encoded data removed]",
      "text/plain": [
       "<Figure size 432x288 with 1 Axes>"
      ]
     },
     "metadata": {
      "needs_background": "light"
     },
     "output_type": "display_data"
    }
   ],
   "source": [
    "print(df['content_rating'].value_counts())\n",
    "sns.countplot(data = df ,x = 'content_rating')\n",
    "plt.title('Content Rating Counts')"
   ]
  },
  {
   "cell_type": "code",
   "execution_count": 53,
   "metadata": {},
   "outputs": [
    {
     "name": "stdout",
     "output_type": "stream",
     "text": [
      "Rotten             6628\n",
      "Fresh              5012\n",
      "Certified-Fresh    2797\n",
      "Name: tomatometer_status, dtype: int64\n"
     ]
    },
    {
     "data": {
      "text/plain": [
       "Text(0.5, 1.0, 'Number of Fresh, Certified Fresh and Rotten Movies')"
      ]
     },
     "execution_count": 53,
     "metadata": {},
     "output_type": "execute_result"
    },
    {
     "data": {
      "image/png": "[encoded data removed]",
      "text/plain": [
       "<Figure size 432x288 with 1 Axes>"
      ]
     },
     "metadata": {
      "needs_background": "light"
     },
     "output_type": "display_data"
    }
   ],
   "source": [
    "print(df['tomatometer_status'].value_counts())\n",
    "sns.countplot(data=df, x='tomatometer_status')\n",
    "plt.title('Number of Fresh, Certified Fresh and Rotten Movies')"
   ]
  },
  {
   "cell_type": "code",
   "execution_count": 54,
   "metadata": {},
   "outputs": [],
   "source": [
    "df['tomatometer_status'].replace(['Rotten','Fresh','Certified-Fresh'],[0,1,2],inplace = True)"
   ]
  },
  {
   "cell_type": "code",
   "execution_count": 55,
   "metadata": {},
   "outputs": [
    {
     "data": {
      "text/plain": [
       "0    6628\n",
       "1    5012\n",
       "2    2797\n",
       "Name: tomatometer_status, dtype: int64"
      ]
     },
     "execution_count": 55,
     "metadata": {},
     "output_type": "execute_result"
    }
   ],
   "source": [
    "df['tomatometer_status'].value_counts()"
   ]
  },
  {
   "cell_type": "code",
   "execution_count": 57,
   "metadata": {},
   "outputs": [
    {
     "name": "stdout",
     "output_type": "stream",
     "text": [
      "Upright    7679\n",
      "Spilled    6758\n",
      "Name: audience_status, dtype: int64\n"
     ]
    },
    {
     "data": {
      "text/plain": [
       "Text(0.5, 1.0, 'Audience Status Counts')"
      ]
     },
     "execution_count": 57,
     "metadata": {},
     "output_type": "execute_result"
    },
    {
     "data": {
      "image/png": "[encoded data removed]",
      "text/plain": [
       "<Figure size 432x288 with 1 Axes>"
      ]
     },
     "metadata": {
      "needs_background": "light"
     },
     "output_type": "display_data"
    }
   ],
   "source": [
    "print(df['audience_status'].value_counts())\n",
    "sns.countplot(data = df , x = 'audience_status')\n",
    "plt.title('Audience Status Counts')"
   ]
  },
  {
   "cell_type": "code",
   "execution_count": 58,
   "metadata": {},
   "outputs": [
    {
     "name": "stdout",
     "output_type": "stream",
     "text": [
      "Warner Bros. Pictures               484\n",
      "Paramount Pictures                  483\n",
      "Universal Pictures                  462\n",
      "20th Century Fox                    404\n",
      "IFC Films                           357\n",
      "Sony Pictures Home Entertainment    351\n",
      "Warner Home Video                   341\n",
      "MGM                                 264\n",
      "MGM Home Entertainment              242\n",
      "Sony Pictures Classics              231\n",
      "Name: production_company, dtype: int64\n"
     ]
    },
    {
     "data": {
      "text/plain": [
       "Text(0.5, 1.0, 'Audience Status Counts')"
      ]
     },
     "execution_count": 58,
     "metadata": {},
     "output_type": "execute_result"
    },
    {
     "data": {
      "image/png": "[encoded data removed]",
      "text/plain": [
       "<Figure size 432x288 with 1 Axes>"
      ]
     },
     "metadata": {
      "needs_background": "light"
     },
     "output_type": "display_data"
    }
   ],
   "source": [
    "print(df['production_company'].value_counts()[:10])\n",
    "df['production_company'].value_counts()[:10].plot(kind='bar')\n",
    "plt.title('Audience Status Counts')"
   ]
  },
  {
   "cell_type": "markdown",
   "metadata": {},
   "source": [
    "Check for Date time type\n",
    "\n",
    "the actual year appears in the micro/nanosecond part of the timestamp, so we need to correctly extract it.\n",
    "\n",
    "Extract Year from Incorrect Parsing"
   ]
  },
  {
   "cell_type": "code",
   "execution_count": 81,
   "metadata": {},
   "outputs": [
    {
     "name": "stdout",
     "output_type": "stream",
     "text": [
      "int32\n",
      "0    2010\n",
      "1    2010\n",
      "2    1979\n",
      "3    1957\n",
      "4    1954\n",
      "Name: original_release_year, dtype: int32\n"
     ]
    }
   ],
   "source": [
    "df['original_release_date'] = pd.to_datetime(df['original_release_date'], unit='s')\n",
    "df['original_release_year'] = df['original_release_date'].astype(str).str[-4:].astype(int)\n",
    "df['original_release_date']\n",
    "print(df['original_release_year'].dtype)\n",
    "print(df['original_release_year'].head())\n"
   ]
  },
  {
   "cell_type": "code",
   "execution_count": 82,
   "metadata": {},
   "outputs": [
    {
     "name": "stdout",
     "output_type": "stream",
     "text": [
      "Year with most number of movies:  2014\n",
      "Year with least number of movies:  1916\n"
     ]
    },
    {
     "data": {
      "image/png": "[encoded data removed]",
      "text/plain": [
       "<Figure size 360x360 with 1 Axes>"
      ]
     },
     "metadata": {
      "needs_background": "light"
     },
     "output_type": "display_data"
    }
   ],
   "source": [
    "sns.displot(data=df, x='original_release_year')\n",
    "plt.ylabel('# MOVIES')\n",
    "plt.title('Movies per Year')\n",
    "print('Year with most number of movies: ', df['original_release_year'].value_counts().idxmax())\n",
    "print('Year with least number of movies: ', df['original_release_year'].value_counts().idxmin())"
   ]
  },
  {
   "cell_type": "code",
   "execution_count": 83,
   "metadata": {},
   "outputs": [
    {
     "data": {
      "text/plain": [
       "Text(0, 0.5, 'Counts')"
      ]
     },
     "execution_count": 83,
     "metadata": {},
     "output_type": "execute_result"
    },
    {
     "data": {
      "image/png": "[encoded data removed]",
      "text/plain": [
       "<Figure size 432x288 with 1 Axes>"
      ]
     },
     "metadata": {
      "needs_background": "light"
     },
     "output_type": "display_data"
    }
   ],
   "source": [
    "df['genres'].value_counts()[:10].plot(kind = 'bar')\n",
    "plt.title('Distribution of genres')\n",
    "plt.ylabel('Counts')"
   ]
  },
  {
   "cell_type": "markdown",
   "metadata": {},
   "source": [
    "# Correlation\n"
   ]
  },
  {
   "cell_type": "code",
   "execution_count": 84,
   "metadata": {},
   "outputs": [
    {
     "data": {
      "text/plain": [
       "<AxesSubplot:>"
      ]
     },
     "execution_count": 84,
     "metadata": {},
     "output_type": "execute_result"
    },
    {
     "data": {
      "image/png": "[encoded data removed]",
      "text/plain": [
       "<Figure size 1080x720 with 2 Axes>"
      ]
     },
     "metadata": {
      "needs_background": "light"
     },
     "output_type": "display_data"
    }
   ],
   "source": [
    "corr = df.select_dtypes('number').corr()\n",
    "plt.figure(figsize = (15,10))\n",
    "sns.heatmap(corr, annot = True)"
   ]
  },
  {
   "cell_type": "code",
   "execution_count": 85,
   "metadata": {},
   "outputs": [
    {
     "data": {
      "text/plain": [
       "tomatometer_status                  1.000000\n",
       "tomatometer_rating                  0.816708\n",
       "audience_rating                     0.587780\n",
       "tomatometer_fresh_critics_count     0.545763\n",
       "tomatometer_count                   0.287299\n",
       "tomatometer_top_critics_count       0.265643\n",
       "runtime                             0.162807\n",
       "audience_count                      0.048062\n",
       "num_directors                       0.005319\n",
       "num_actors                         -0.014387\n",
       "num_authors                        -0.033931\n",
       "original_release_year              -0.089029\n",
       "tomatometer_rotten_critics_count   -0.298060\n",
       "Name: tomatometer_status, dtype: float64"
      ]
     },
     "execution_count": 85,
     "metadata": {},
     "output_type": "execute_result"
    }
   ],
   "source": [
    "df.select_dtypes('number').corr()['tomatometer_status'].sort_values(ascending=False)"
   ]
  },
  {
   "cell_type": "code",
   "execution_count": 86,
   "metadata": {},
   "outputs": [
    {
     "data": {
      "image/png": "[encoded data removed]",
      "text/plain": [
       "<Figure size 720x1440 with 6 Axes>"
      ]
     },
     "metadata": {
      "needs_background": "light"
     },
     "output_type": "display_data"
    }
   ],
   "source": [
    "plt_col = ['tomatometer_rating', 'tomatometer_count', 'audience_rating', 'tomatometer_top_critics_count', 'tomatometer_fresh_critics_count', 'tomatometer_rotten_critics_count']\n",
    "fig, ax = plt.subplots(3, 2, figsize=(10, 20))\n",
    "ax = ax.flatten()\n",
    "for index ,value in enumerate(plt_col):\n",
    "    sns.boxplot(data = df, x = value, ax = ax[index])"
   ]
  },
  {
   "cell_type": "code",
   "execution_count": 89,
   "metadata": {},
   "outputs": [],
   "source": [
    "masks = {col: df[col] < iqr(df[col]) * 1.5 + np.percentile(df[col], 75) for col in plt_col}"
   ]
  },
  {
   "cell_type": "code",
   "execution_count": 91,
   "metadata": {},
   "outputs": [],
   "source": [
    "final_mask = reduce(lambda x, y: x & y, masks.values())"
   ]
  },
  {
   "cell_type": "code",
   "execution_count": 92,
   "metadata": {},
   "outputs": [],
   "source": [
    "df =df[final_mask]"
   ]
  },
  {
   "cell_type": "code",
   "execution_count": 94,
   "metadata": {},
   "outputs": [
    {
     "data": {
      "text/plain": [
       "(11775, 25)"
      ]
     },
     "execution_count": 94,
     "metadata": {},
     "output_type": "execute_result"
    }
   ],
   "source": [
    "df.shape"
   ]
  },
  {
   "cell_type": "code",
   "execution_count": 95,
   "metadata": {},
   "outputs": [],
   "source": [
    "target = df['tomatometer_status'].copy()\n",
    "df.drop('tomatometer_status', axis=1, inplace=True)"
   ]
  },
  {
   "cell_type": "code",
   "execution_count": 96,
   "metadata": {},
   "outputs": [
    {
     "data": {
      "text/plain": [
       "(12,)"
      ]
     },
     "execution_count": 96,
     "metadata": {},
     "output_type": "execute_result"
    }
   ],
   "source": [
    "hist_col = df.select_dtypes('number').columns\n",
    "hist_col.shape"
   ]
  },
  {
   "cell_type": "code",
   "execution_count": 97,
   "metadata": {},
   "outputs": [
    {
     "data": {
      "image/png": "[encoded data removed]",
      "text/plain": [
       "<Figure size 1440x2880 with 12 Axes>"
      ]
     },
     "metadata": {
      "needs_background": "light"
     },
     "output_type": "display_data"
    }
   ],
   "source": [
    "fig, ax = plt.subplots(4, 3, figsize=(20, 40))\n",
    "ax = ax.flatten()\n",
    "for index, value in enumerate(hist_col):\n",
    "    sns.histplot(data=df, x=value, ax=ax[index])"
   ]
  },
  {
   "cell_type": "code",
   "execution_count": 98,
   "metadata": {},
   "outputs": [
    {
     "data": {
      "text/plain": [
       "runtime                              1.595251\n",
       "tomatometer_rating                  -0.416737\n",
       "tomatometer_count                    1.483559\n",
       "audience_rating                     -0.279698\n",
       "audience_count                      33.776311\n",
       "tomatometer_top_critics_count        1.296750\n",
       "tomatometer_fresh_critics_count      1.571695\n",
       "tomatometer_rotten_critics_count     1.725348\n",
       "num_directors                       12.464975\n",
       "num_actors                           1.804835\n",
       "num_authors                          3.324130\n",
       "original_release_year               -1.243660\n",
       "dtype: float64"
      ]
     },
     "execution_count": 98,
     "metadata": {},
     "output_type": "execute_result"
    }
   ],
   "source": [
    "df.skew(numeric_only=True)"
   ]
  },
  {
   "cell_type": "code",
   "execution_count": 99,
   "metadata": {},
   "outputs": [
    {
     "data": {
      "text/plain": [
       "Index(['runtime', 'tomatometer_count', 'audience_count',\n",
       "       'tomatometer_top_critics_count', 'tomatometer_fresh_critics_count',\n",
       "       'tomatometer_rotten_critics_count', 'num_directors', 'num_actors',\n",
       "       'num_authors', 'original_release_year'],\n",
       "      dtype='object')"
      ]
     },
     "execution_count": 99,
     "metadata": {},
     "output_type": "execute_result"
    }
   ],
   "source": [
    "skewness_ckeck = (df.skew(numeric_only=True) >= 1) | (df.skew(numeric_only=True) <= -1)\n",
    "skewed_columns = skewness_ckeck[skewness_ckeck == True].index\n",
    "skewed_columns"
   ]
  },
  {
   "cell_type": "code",
   "execution_count": 100,
   "metadata": {},
   "outputs": [
    {
     "data": {
      "text/html": [
       "<div>\n",
       "<style scoped>\n",
       "    .dataframe tbody tr th:only-of-type {\n",
       "        vertical-align: middle;\n",
       "    }\n",
       "\n",
       "    .dataframe tbody tr th {\n",
       "        vertical-align: top;\n",
       "    }\n",
       "\n",
       "    .dataframe thead th {\n",
       "        text-align: right;\n",
       "    }\n",
       "</style>\n",
       "<table border=\"1\" class=\"dataframe\">\n",
       "  <thead>\n",
       "    <tr style=\"text-align: right;\">\n",
       "      <th></th>\n",
       "      <th>rotten_tomatoes_link</th>\n",
       "      <th>movie_title</th>\n",
       "      <th>movie_info</th>\n",
       "      <th>content_rating</th>\n",
       "      <th>genres</th>\n",
       "      <th>directors</th>\n",
       "      <th>authors</th>\n",
       "      <th>actors</th>\n",
       "      <th>original_release_date</th>\n",
       "      <th>streaming_release_date</th>\n",
       "      <th>...</th>\n",
       "      <th>audience_status</th>\n",
       "      <th>audience_rating</th>\n",
       "      <th>audience_count</th>\n",
       "      <th>tomatometer_top_critics_count</th>\n",
       "      <th>tomatometer_fresh_critics_count</th>\n",
       "      <th>tomatometer_rotten_critics_count</th>\n",
       "      <th>num_directors</th>\n",
       "      <th>num_actors</th>\n",
       "      <th>num_authors</th>\n",
       "      <th>original_release_year</th>\n",
       "    </tr>\n",
       "  </thead>\n",
       "  <tbody>\n",
       "    <tr>\n",
       "      <th>2</th>\n",
       "      <td>m/10</td>\n",
       "      <td>10</td>\n",
       "      <td>A successful, middle-aged Hollywood songwriter...</td>\n",
       "      <td>R</td>\n",
       "      <td>Comedy, Romance</td>\n",
       "      <td>Blake Edwards</td>\n",
       "      <td>Blake Edwards</td>\n",
       "      <td>Dudley Moore, Bo Derek, Julie Andrews, Robert ...</td>\n",
       "      <td>1970-01-01 00:00:00.000001979</td>\n",
       "      <td>2014-07-24</td>\n",
       "      <td>...</td>\n",
       "      <td>Spilled</td>\n",
       "      <td>53.0</td>\n",
       "      <td>9.594514</td>\n",
       "      <td>0.693147</td>\n",
       "      <td>2.772589</td>\n",
       "      <td>2.079442</td>\n",
       "      <td>0.000000</td>\n",
       "      <td>3.828641</td>\n",
       "      <td>0.000000</td>\n",
       "      <td>7.590347</td>\n",
       "    </tr>\n",
       "    <tr>\n",
       "      <th>3</th>\n",
       "      <td>m/1000013-12_angry_men</td>\n",
       "      <td>12 Angry Men (Twelve Angry Men)</td>\n",
       "      <td>Following the closing arguments in a murder tr...</td>\n",
       "      <td>NR</td>\n",
       "      <td>Classics, Drama</td>\n",
       "      <td>Sidney Lumet</td>\n",
       "      <td>Reginald Rose</td>\n",
       "      <td>Martin Balsam, John Fiedler, Lee J. Cobb, E.G....</td>\n",
       "      <td>1970-01-01 00:00:00.000001957</td>\n",
       "      <td>2017-01-13</td>\n",
       "      <td>...</td>\n",
       "      <td>Upright</td>\n",
       "      <td>97.0</td>\n",
       "      <td>11.565385</td>\n",
       "      <td>1.791759</td>\n",
       "      <td>3.988984</td>\n",
       "      <td>0.000000</td>\n",
       "      <td>0.000000</td>\n",
       "      <td>2.772589</td>\n",
       "      <td>0.000000</td>\n",
       "      <td>7.579168</td>\n",
       "    </tr>\n",
       "    <tr>\n",
       "      <th>4</th>\n",
       "      <td>m/1000079-20000_leagues_under_the_sea</td>\n",
       "      <td>20,000 Leagues Under The Sea</td>\n",
       "      <td>In 1866, Professor Pierre M. Aronnax (Paul Luk...</td>\n",
       "      <td>G</td>\n",
       "      <td>Action &amp; Adventure, Drama, Kids &amp; Family</td>\n",
       "      <td>Richard Fleischer</td>\n",
       "      <td>Earl Felton</td>\n",
       "      <td>James Mason, Kirk Douglas, Paul Lukas, Peter L...</td>\n",
       "      <td>1970-01-01 00:00:00.000001954</td>\n",
       "      <td>2016-06-10</td>\n",
       "      <td>...</td>\n",
       "      <td>Upright</td>\n",
       "      <td>74.0</td>\n",
       "      <td>11.140673</td>\n",
       "      <td>1.609438</td>\n",
       "      <td>3.178054</td>\n",
       "      <td>1.098612</td>\n",
       "      <td>0.000000</td>\n",
       "      <td>2.772589</td>\n",
       "      <td>0.000000</td>\n",
       "      <td>7.577634</td>\n",
       "    </tr>\n",
       "    <tr>\n",
       "      <th>6</th>\n",
       "      <td>m/1000121-39_steps</td>\n",
       "      <td>The 39 Steps</td>\n",
       "      <td>While on vacation in London, Canadian Richard ...</td>\n",
       "      <td>NR</td>\n",
       "      <td>Action &amp; Adventure, Classics, Mystery &amp; Suspense</td>\n",
       "      <td>Alfred Hitchcock</td>\n",
       "      <td>Alma Reville, Charles Bennett, Ian Hay, Alfred...</td>\n",
       "      <td>Robert Donat, Madeleine Carroll, Godfrey Tearl...</td>\n",
       "      <td>1970-01-01 00:00:00.000001935</td>\n",
       "      <td>2017-01-12</td>\n",
       "      <td>...</td>\n",
       "      <td>Upright</td>\n",
       "      <td>86.0</td>\n",
       "      <td>10.081215</td>\n",
       "      <td>2.079442</td>\n",
       "      <td>3.891820</td>\n",
       "      <td>0.693147</td>\n",
       "      <td>0.000000</td>\n",
       "      <td>2.639057</td>\n",
       "      <td>1.386294</td>\n",
       "      <td>7.567863</td>\n",
       "    </tr>\n",
       "    <tr>\n",
       "      <th>7</th>\n",
       "      <td>m/1000123-310_to_yuma</td>\n",
       "      <td>3:10 to Yuma</td>\n",
       "      <td>Dan Evans (Van Heflin), a drought-plagued Ariz...</td>\n",
       "      <td>NR</td>\n",
       "      <td>Classics, Drama, Western</td>\n",
       "      <td>Delmer Daves</td>\n",
       "      <td>Halsted Welles</td>\n",
       "      <td>Glenn Ford, Van Heflin, Felicia Farr, Leora Da...</td>\n",
       "      <td>1970-01-01 00:00:00.000001957</td>\n",
       "      <td>2012-04-16</td>\n",
       "      <td>...</td>\n",
       "      <td>Upright</td>\n",
       "      <td>79.0</td>\n",
       "      <td>9.131622</td>\n",
       "      <td>1.791759</td>\n",
       "      <td>3.295837</td>\n",
       "      <td>0.000000</td>\n",
       "      <td>0.000000</td>\n",
       "      <td>2.639057</td>\n",
       "      <td>0.000000</td>\n",
       "      <td>7.579168</td>\n",
       "    </tr>\n",
       "    <tr>\n",
       "      <th>...</th>\n",
       "      <td>...</td>\n",
       "      <td>...</td>\n",
       "      <td>...</td>\n",
       "      <td>...</td>\n",
       "      <td>...</td>\n",
       "      <td>...</td>\n",
       "      <td>...</td>\n",
       "      <td>...</td>\n",
       "      <td>...</td>\n",
       "      <td>...</td>\n",
       "      <td>...</td>\n",
       "      <td>...</td>\n",
       "      <td>...</td>\n",
       "      <td>...</td>\n",
       "      <td>...</td>\n",
       "      <td>...</td>\n",
       "      <td>...</td>\n",
       "      <td>...</td>\n",
       "      <td>...</td>\n",
       "      <td>...</td>\n",
       "      <td>...</td>\n",
       "    </tr>\n",
       "    <tr>\n",
       "      <th>17702</th>\n",
       "      <td>m/zoo_2018</td>\n",
       "      <td>Zoo</td>\n",
       "      <td>A 12-year old boy and his misfit friends enlis...</td>\n",
       "      <td>PG</td>\n",
       "      <td>Action &amp; Adventure, Kids &amp; Family</td>\n",
       "      <td>Colin McIvor</td>\n",
       "      <td>Colin McIvor</td>\n",
       "      <td>Art Parkinson, Penelope Wilton, Amy Huberman, ...</td>\n",
       "      <td>1970-01-01 00:00:00.000002018</td>\n",
       "      <td>2018-06-10</td>\n",
       "      <td>...</td>\n",
       "      <td>Upright</td>\n",
       "      <td>62.0</td>\n",
       "      <td>4.852030</td>\n",
       "      <td>1.098612</td>\n",
       "      <td>2.708050</td>\n",
       "      <td>0.693147</td>\n",
       "      <td>0.000000</td>\n",
       "      <td>1.386294</td>\n",
       "      <td>0.000000</td>\n",
       "      <td>7.609862</td>\n",
       "    </tr>\n",
       "    <tr>\n",
       "      <th>17704</th>\n",
       "      <td>m/zoolander</td>\n",
       "      <td>Zoolander</td>\n",
       "      <td>Propelled to the top of the fashion world by a...</td>\n",
       "      <td>PG-13</td>\n",
       "      <td>Comedy, Special Interest</td>\n",
       "      <td>Ben Stiller</td>\n",
       "      <td>Drake Sather, John Hamburg, Ben Stiller</td>\n",
       "      <td>Ben Stiller, Owen Wilson, Will Ferrell, Christ...</td>\n",
       "      <td>1970-01-01 00:00:00.000002001</td>\n",
       "      <td>2013-08-01</td>\n",
       "      <td>...</td>\n",
       "      <td>Upright</td>\n",
       "      <td>80.0</td>\n",
       "      <td>13.758729</td>\n",
       "      <td>3.496508</td>\n",
       "      <td>4.477337</td>\n",
       "      <td>3.912023</td>\n",
       "      <td>0.000000</td>\n",
       "      <td>4.634729</td>\n",
       "      <td>1.098612</td>\n",
       "      <td>7.601402</td>\n",
       "    </tr>\n",
       "    <tr>\n",
       "      <th>17707</th>\n",
       "      <td>m/zoot_suit</td>\n",
       "      <td>Zoot Suit</td>\n",
       "      <td>Mexican-American gangster Henry Reyna (Daniel ...</td>\n",
       "      <td>R</td>\n",
       "      <td>Drama, Musical &amp; Performing Arts</td>\n",
       "      <td>Luis Valdez</td>\n",
       "      <td>Luis Valdez</td>\n",
       "      <td>Daniel Valdez, Edward James Olmos, Charles Aid...</td>\n",
       "      <td>1970-01-01 00:00:00.000001981</td>\n",
       "      <td>2016-04-19</td>\n",
       "      <td>...</td>\n",
       "      <td>Upright</td>\n",
       "      <td>74.0</td>\n",
       "      <td>7.085901</td>\n",
       "      <td>0.693147</td>\n",
       "      <td>1.609438</td>\n",
       "      <td>1.386294</td>\n",
       "      <td>0.000000</td>\n",
       "      <td>3.912023</td>\n",
       "      <td>0.000000</td>\n",
       "      <td>7.591357</td>\n",
       "    </tr>\n",
       "    <tr>\n",
       "      <th>17710</th>\n",
       "      <td>m/zulu</td>\n",
       "      <td>Zulu</td>\n",
       "      <td>In 1879, the Zulu nation hands colonial Britis...</td>\n",
       "      <td>PG</td>\n",
       "      <td>Classics, Drama</td>\n",
       "      <td>Cy Endfield, Cyril Endfield</td>\n",
       "      <td>Cy Endfield, John Prebble</td>\n",
       "      <td>Stanley Baker, Jack Hawkins, Ulla Jacobsson, J...</td>\n",
       "      <td>1970-01-01 00:00:00.000001964</td>\n",
       "      <td>2017-01-08</td>\n",
       "      <td>...</td>\n",
       "      <td>Upright</td>\n",
       "      <td>91.0</td>\n",
       "      <td>10.315365</td>\n",
       "      <td>1.791759</td>\n",
       "      <td>3.091042</td>\n",
       "      <td>0.000000</td>\n",
       "      <td>0.693147</td>\n",
       "      <td>3.496508</td>\n",
       "      <td>0.693147</td>\n",
       "      <td>7.582738</td>\n",
       "    </tr>\n",
       "    <tr>\n",
       "      <th>17711</th>\n",
       "      <td>m/zulu_dawn</td>\n",
       "      <td>Zulu Dawn</td>\n",
       "      <td>Sir Henry Bartle Frere's (John Mills) vastly o...</td>\n",
       "      <td>PG</td>\n",
       "      <td>Action &amp; Adventure, Art House &amp; International,...</td>\n",
       "      <td>Douglas Hickox</td>\n",
       "      <td>Cy Endfield, Anthony Storey</td>\n",
       "      <td>Burt Lancaster, Peter O'Toole, Simon Ward, Joh...</td>\n",
       "      <td>1970-01-01 00:00:00.000001979</td>\n",
       "      <td>2016-03-22</td>\n",
       "      <td>...</td>\n",
       "      <td>Upright</td>\n",
       "      <td>62.0</td>\n",
       "      <td>8.404920</td>\n",
       "      <td>0.000000</td>\n",
       "      <td>1.386294</td>\n",
       "      <td>1.386294</td>\n",
       "      <td>0.000000</td>\n",
       "      <td>3.367296</td>\n",
       "      <td>0.693147</td>\n",
       "      <td>7.590347</td>\n",
       "    </tr>\n",
       "  </tbody>\n",
       "</table>\n",
       "<p>11775 rows × 24 columns</p>\n",
       "</div>"
      ],
      "text/plain": [
       "                        rotten_tomatoes_link                      movie_title  \\\n",
       "2                                       m/10                               10   \n",
       "3                     m/1000013-12_angry_men  12 Angry Men (Twelve Angry Men)   \n",
       "4      m/1000079-20000_leagues_under_the_sea     20,000 Leagues Under The Sea   \n",
       "6                         m/1000121-39_steps                     The 39 Steps   \n",
       "7                      m/1000123-310_to_yuma                     3:10 to Yuma   \n",
       "...                                      ...                              ...   \n",
       "17702                             m/zoo_2018                              Zoo   \n",
       "17704                            m/zoolander                        Zoolander   \n",
       "17707                            m/zoot_suit                        Zoot Suit   \n",
       "17710                                 m/zulu                             Zulu   \n",
       "17711                            m/zulu_dawn                        Zulu Dawn   \n",
       "\n",
       "                                              movie_info content_rating  \\\n",
       "2      A successful, middle-aged Hollywood songwriter...              R   \n",
       "3      Following the closing arguments in a murder tr...             NR   \n",
       "4      In 1866, Professor Pierre M. Aronnax (Paul Luk...              G   \n",
       "6      While on vacation in London, Canadian Richard ...             NR   \n",
       "7      Dan Evans (Van Heflin), a drought-plagued Ariz...             NR   \n",
       "...                                                  ...            ...   \n",
       "17702  A 12-year old boy and his misfit friends enlis...             PG   \n",
       "17704  Propelled to the top of the fashion world by a...          PG-13   \n",
       "17707  Mexican-American gangster Henry Reyna (Daniel ...              R   \n",
       "17710  In 1879, the Zulu nation hands colonial Britis...             PG   \n",
       "17711  Sir Henry Bartle Frere's (John Mills) vastly o...             PG   \n",
       "\n",
       "                                                  genres  \\\n",
       "2                                        Comedy, Romance   \n",
       "3                                        Classics, Drama   \n",
       "4               Action & Adventure, Drama, Kids & Family   \n",
       "6       Action & Adventure, Classics, Mystery & Suspense   \n",
       "7                               Classics, Drama, Western   \n",
       "...                                                  ...   \n",
       "17702                  Action & Adventure, Kids & Family   \n",
       "17704                           Comedy, Special Interest   \n",
       "17707                   Drama, Musical & Performing Arts   \n",
       "17710                                    Classics, Drama   \n",
       "17711  Action & Adventure, Art House & International,...   \n",
       "\n",
       "                         directors  \\\n",
       "2                    Blake Edwards   \n",
       "3                     Sidney Lumet   \n",
       "4                Richard Fleischer   \n",
       "6                 Alfred Hitchcock   \n",
       "7                     Delmer Daves   \n",
       "...                            ...   \n",
       "17702                 Colin McIvor   \n",
       "17704                  Ben Stiller   \n",
       "17707                  Luis Valdez   \n",
       "17710  Cy Endfield, Cyril Endfield   \n",
       "17711               Douglas Hickox   \n",
       "\n",
       "                                                 authors  \\\n",
       "2                                          Blake Edwards   \n",
       "3                                          Reginald Rose   \n",
       "4                                            Earl Felton   \n",
       "6      Alma Reville, Charles Bennett, Ian Hay, Alfred...   \n",
       "7                                         Halsted Welles   \n",
       "...                                                  ...   \n",
       "17702                                       Colin McIvor   \n",
       "17704            Drake Sather, John Hamburg, Ben Stiller   \n",
       "17707                                        Luis Valdez   \n",
       "17710                          Cy Endfield, John Prebble   \n",
       "17711                        Cy Endfield, Anthony Storey   \n",
       "\n",
       "                                                  actors  \\\n",
       "2      Dudley Moore, Bo Derek, Julie Andrews, Robert ...   \n",
       "3      Martin Balsam, John Fiedler, Lee J. Cobb, E.G....   \n",
       "4      James Mason, Kirk Douglas, Paul Lukas, Peter L...   \n",
       "6      Robert Donat, Madeleine Carroll, Godfrey Tearl...   \n",
       "7      Glenn Ford, Van Heflin, Felicia Farr, Leora Da...   \n",
       "...                                                  ...   \n",
       "17702  Art Parkinson, Penelope Wilton, Amy Huberman, ...   \n",
       "17704  Ben Stiller, Owen Wilson, Will Ferrell, Christ...   \n",
       "17707  Daniel Valdez, Edward James Olmos, Charles Aid...   \n",
       "17710  Stanley Baker, Jack Hawkins, Ulla Jacobsson, J...   \n",
       "17711  Burt Lancaster, Peter O'Toole, Simon Ward, Joh...   \n",
       "\n",
       "              original_release_date streaming_release_date  ...  \\\n",
       "2     1970-01-01 00:00:00.000001979             2014-07-24  ...   \n",
       "3     1970-01-01 00:00:00.000001957             2017-01-13  ...   \n",
       "4     1970-01-01 00:00:00.000001954             2016-06-10  ...   \n",
       "6     1970-01-01 00:00:00.000001935             2017-01-12  ...   \n",
       "7     1970-01-01 00:00:00.000001957             2012-04-16  ...   \n",
       "...                             ...                    ...  ...   \n",
       "17702 1970-01-01 00:00:00.000002018             2018-06-10  ...   \n",
       "17704 1970-01-01 00:00:00.000002001             2013-08-01  ...   \n",
       "17707 1970-01-01 00:00:00.000001981             2016-04-19  ...   \n",
       "17710 1970-01-01 00:00:00.000001964             2017-01-08  ...   \n",
       "17711 1970-01-01 00:00:00.000001979             2016-03-22  ...   \n",
       "\n",
       "       audience_status audience_rating  audience_count  \\\n",
       "2              Spilled            53.0        9.594514   \n",
       "3              Upright            97.0       11.565385   \n",
       "4              Upright            74.0       11.140673   \n",
       "6              Upright            86.0       10.081215   \n",
       "7              Upright            79.0        9.131622   \n",
       "...                ...             ...             ...   \n",
       "17702          Upright            62.0        4.852030   \n",
       "17704          Upright            80.0       13.758729   \n",
       "17707          Upright            74.0        7.085901   \n",
       "17710          Upright            91.0       10.315365   \n",
       "17711          Upright            62.0        8.404920   \n",
       "\n",
       "       tomatometer_top_critics_count tomatometer_fresh_critics_count  \\\n",
       "2                           0.693147                        2.772589   \n",
       "3                           1.791759                        3.988984   \n",
       "4                           1.609438                        3.178054   \n",
       "6                           2.079442                        3.891820   \n",
       "7                           1.791759                        3.295837   \n",
       "...                              ...                             ...   \n",
       "17702                       1.098612                        2.708050   \n",
       "17704                       3.496508                        4.477337   \n",
       "17707                       0.693147                        1.609438   \n",
       "17710                       1.791759                        3.091042   \n",
       "17711                       0.000000                        1.386294   \n",
       "\n",
       "       tomatometer_rotten_critics_count  num_directors  num_actors  \\\n",
       "2                              2.079442       0.000000    3.828641   \n",
       "3                              0.000000       0.000000    2.772589   \n",
       "4                              1.098612       0.000000    2.772589   \n",
       "6                              0.693147       0.000000    2.639057   \n",
       "7                              0.000000       0.000000    2.639057   \n",
       "...                                 ...            ...         ...   \n",
       "17702                          0.693147       0.000000    1.386294   \n",
       "17704                          3.912023       0.000000    4.634729   \n",
       "17707                          1.386294       0.000000    3.912023   \n",
       "17710                          0.000000       0.693147    3.496508   \n",
       "17711                          1.386294       0.000000    3.367296   \n",
       "\n",
       "       num_authors  original_release_year  \n",
       "2         0.000000               7.590347  \n",
       "3         0.000000               7.579168  \n",
       "4         0.000000               7.577634  \n",
       "6         1.386294               7.567863  \n",
       "7         0.000000               7.579168  \n",
       "...            ...                    ...  \n",
       "17702     0.000000               7.609862  \n",
       "17704     1.098612               7.601402  \n",
       "17707     0.000000               7.591357  \n",
       "17710     0.693147               7.582738  \n",
       "17711     0.693147               7.590347  \n",
       "\n",
       "[11775 rows x 24 columns]"
      ]
     },
     "execution_count": 100,
     "metadata": {},
     "output_type": "execute_result"
    }
   ],
   "source": [
    "np.seterr(divide='ignore')\n",
    "\n",
    "# Apply log transformation on positive values, while keeping zeroes.\n",
    "sk_ = df[skewed_columns].apply(lambda x: np.where(x > 0, np.log(x), 0))\n",
    "\n",
    "# Drop skewed columns\n",
    "df_skew = df.drop(columns=skewed_columns)\n",
    "\n",
    "#Merging\n",
    "df_movies_skew = pd.concat([df_skew, sk_], axis=1)\n",
    "\n",
    "# original column order\n",
    "df_movies_skew = df_movies_skew[df.columns]\n",
    "\n",
    "df_movies_skew"
   ]
  },
  {
   "cell_type": "code",
   "execution_count": 101,
   "metadata": {},
   "outputs": [
    {
     "data": {
      "text/html": [
       "<div>\n",
       "<style scoped>\n",
       "    .dataframe tbody tr th:only-of-type {\n",
       "        vertical-align: middle;\n",
       "    }\n",
       "\n",
       "    .dataframe tbody tr th {\n",
       "        vertical-align: top;\n",
       "    }\n",
       "\n",
       "    .dataframe thead th {\n",
       "        text-align: right;\n",
       "    }\n",
       "</style>\n",
       "<table border=\"1\" class=\"dataframe\">\n",
       "  <thead>\n",
       "    <tr style=\"text-align: right;\">\n",
       "      <th></th>\n",
       "      <th>G</th>\n",
       "      <th>NC17</th>\n",
       "      <th>NR</th>\n",
       "      <th>PG</th>\n",
       "      <th>PG-13</th>\n",
       "      <th>R</th>\n",
       "    </tr>\n",
       "  </thead>\n",
       "  <tbody>\n",
       "    <tr>\n",
       "      <th>2</th>\n",
       "      <td>0</td>\n",
       "      <td>0</td>\n",
       "      <td>0</td>\n",
       "      <td>0</td>\n",
       "      <td>0</td>\n",
       "      <td>1</td>\n",
       "    </tr>\n",
       "    <tr>\n",
       "      <th>3</th>\n",
       "      <td>0</td>\n",
       "      <td>0</td>\n",
       "      <td>1</td>\n",
       "      <td>0</td>\n",
       "      <td>0</td>\n",
       "      <td>0</td>\n",
       "    </tr>\n",
       "    <tr>\n",
       "      <th>4</th>\n",
       "      <td>1</td>\n",
       "      <td>0</td>\n",
       "      <td>0</td>\n",
       "      <td>0</td>\n",
       "      <td>0</td>\n",
       "      <td>0</td>\n",
       "    </tr>\n",
       "    <tr>\n",
       "      <th>6</th>\n",
       "      <td>0</td>\n",
       "      <td>0</td>\n",
       "      <td>1</td>\n",
       "      <td>0</td>\n",
       "      <td>0</td>\n",
       "      <td>0</td>\n",
       "    </tr>\n",
       "    <tr>\n",
       "      <th>7</th>\n",
       "      <td>0</td>\n",
       "      <td>0</td>\n",
       "      <td>1</td>\n",
       "      <td>0</td>\n",
       "      <td>0</td>\n",
       "      <td>0</td>\n",
       "    </tr>\n",
       "    <tr>\n",
       "      <th>...</th>\n",
       "      <td>...</td>\n",
       "      <td>...</td>\n",
       "      <td>...</td>\n",
       "      <td>...</td>\n",
       "      <td>...</td>\n",
       "      <td>...</td>\n",
       "    </tr>\n",
       "    <tr>\n",
       "      <th>17702</th>\n",
       "      <td>0</td>\n",
       "      <td>0</td>\n",
       "      <td>0</td>\n",
       "      <td>1</td>\n",
       "      <td>0</td>\n",
       "      <td>0</td>\n",
       "    </tr>\n",
       "    <tr>\n",
       "      <th>17704</th>\n",
       "      <td>0</td>\n",
       "      <td>0</td>\n",
       "      <td>0</td>\n",
       "      <td>0</td>\n",
       "      <td>1</td>\n",
       "      <td>0</td>\n",
       "    </tr>\n",
       "    <tr>\n",
       "      <th>17707</th>\n",
       "      <td>0</td>\n",
       "      <td>0</td>\n",
       "      <td>0</td>\n",
       "      <td>0</td>\n",
       "      <td>0</td>\n",
       "      <td>1</td>\n",
       "    </tr>\n",
       "    <tr>\n",
       "      <th>17710</th>\n",
       "      <td>0</td>\n",
       "      <td>0</td>\n",
       "      <td>0</td>\n",
       "      <td>1</td>\n",
       "      <td>0</td>\n",
       "      <td>0</td>\n",
       "    </tr>\n",
       "    <tr>\n",
       "      <th>17711</th>\n",
       "      <td>0</td>\n",
       "      <td>0</td>\n",
       "      <td>0</td>\n",
       "      <td>1</td>\n",
       "      <td>0</td>\n",
       "      <td>0</td>\n",
       "    </tr>\n",
       "  </tbody>\n",
       "</table>\n",
       "<p>11775 rows × 6 columns</p>\n",
       "</div>"
      ],
      "text/plain": [
       "       G  NC17  NR  PG  PG-13  R\n",
       "2      0     0   0   0      0  1\n",
       "3      0     0   1   0      0  0\n",
       "4      1     0   0   0      0  0\n",
       "6      0     0   1   0      0  0\n",
       "7      0     0   1   0      0  0\n",
       "...   ..   ...  ..  ..    ... ..\n",
       "17702  0     0   0   1      0  0\n",
       "17704  0     0   0   0      1  0\n",
       "17707  0     0   0   0      0  1\n",
       "17710  0     0   0   1      0  0\n",
       "17711  0     0   0   1      0  0\n",
       "\n",
       "[11775 rows x 6 columns]"
      ]
     },
     "execution_count": 101,
     "metadata": {},
     "output_type": "execute_result"
    }
   ],
   "source": [
    "content_rating = pd.get_dummies(df_movies_skew['content_rating']).astype(int)\n",
    "content_rating"
   ]
  },
  {
   "cell_type": "code",
   "execution_count": 102,
   "metadata": {},
   "outputs": [],
   "source": [
    "df_movies_skew['audience_status'].replace(['Spilled', 'Upright'], [0, 1], inplace=True)"
   ]
  },
  {
   "cell_type": "code",
   "execution_count": 103,
   "metadata": {},
   "outputs": [
    {
     "data": {
      "text/plain": [
       "Index(['rotten_tomatoes_link', 'movie_title', 'movie_info', 'content_rating',\n",
       "       'genres', 'directors', 'authors', 'actors', 'original_release_date',\n",
       "       'streaming_release_date', 'runtime', 'production_company',\n",
       "       'tomatometer_rating', 'tomatometer_count', 'audience_status',\n",
       "       'audience_rating', 'audience_count', 'tomatometer_top_critics_count',\n",
       "       'tomatometer_fresh_critics_count', 'tomatometer_rotten_critics_count',\n",
       "       'num_directors', 'num_actors', 'num_authors', 'original_release_year'],\n",
       "      dtype='object')"
      ]
     },
     "execution_count": 103,
     "metadata": {},
     "output_type": "execute_result"
    }
   ],
   "source": [
    "df_movies_skew.columns"
   ]
  },
  {
   "cell_type": "code",
   "execution_count": 104,
   "metadata": {},
   "outputs": [],
   "source": [
    "df_feature = pd.concat([df_movies_skew[['runtime', 'tomatometer_rating', 'tomatometer_count', 'audience_status', 'audience_rating', 'audience_count', 'tomatometer_top_critics_count', 'tomatometer_fresh_critics_count', 'tomatometer_rotten_critics_count', 'num_directors', 'num_authors', 'num_actors']], content_rating], axis=1)"
   ]
  },
  {
   "cell_type": "code",
   "execution_count": 105,
   "metadata": {},
   "outputs": [
    {
     "data": {
      "text/html": [
       "<div>\n",
       "<style scoped>\n",
       "    .dataframe tbody tr th:only-of-type {\n",
       "        vertical-align: middle;\n",
       "    }\n",
       "\n",
       "    .dataframe tbody tr th {\n",
       "        vertical-align: top;\n",
       "    }\n",
       "\n",
       "    .dataframe thead th {\n",
       "        text-align: right;\n",
       "    }\n",
       "</style>\n",
       "<table border=\"1\" class=\"dataframe\">\n",
       "  <thead>\n",
       "    <tr style=\"text-align: right;\">\n",
       "      <th></th>\n",
       "      <th>runtime</th>\n",
       "      <th>tomatometer_rating</th>\n",
       "      <th>tomatometer_count</th>\n",
       "      <th>audience_status</th>\n",
       "      <th>audience_rating</th>\n",
       "      <th>audience_count</th>\n",
       "      <th>tomatometer_top_critics_count</th>\n",
       "      <th>tomatometer_fresh_critics_count</th>\n",
       "      <th>tomatometer_rotten_critics_count</th>\n",
       "      <th>num_directors</th>\n",
       "      <th>num_authors</th>\n",
       "      <th>num_actors</th>\n",
       "      <th>G</th>\n",
       "      <th>NC17</th>\n",
       "      <th>NR</th>\n",
       "      <th>PG</th>\n",
       "      <th>PG-13</th>\n",
       "      <th>R</th>\n",
       "    </tr>\n",
       "  </thead>\n",
       "  <tbody>\n",
       "    <tr>\n",
       "      <th>2</th>\n",
       "      <td>4.804021</td>\n",
       "      <td>67.0</td>\n",
       "      <td>3.178054</td>\n",
       "      <td>0</td>\n",
       "      <td>53.0</td>\n",
       "      <td>9.594514</td>\n",
       "      <td>0.693147</td>\n",
       "      <td>2.772589</td>\n",
       "      <td>2.079442</td>\n",
       "      <td>0.0</td>\n",
       "      <td>0.000000</td>\n",
       "      <td>3.828641</td>\n",
       "      <td>0</td>\n",
       "      <td>0</td>\n",
       "      <td>0</td>\n",
       "      <td>0</td>\n",
       "      <td>0</td>\n",
       "      <td>1</td>\n",
       "    </tr>\n",
       "    <tr>\n",
       "      <th>3</th>\n",
       "      <td>4.553877</td>\n",
       "      <td>100.0</td>\n",
       "      <td>3.988984</td>\n",
       "      <td>1</td>\n",
       "      <td>97.0</td>\n",
       "      <td>11.565385</td>\n",
       "      <td>1.791759</td>\n",
       "      <td>3.988984</td>\n",
       "      <td>0.000000</td>\n",
       "      <td>0.0</td>\n",
       "      <td>0.000000</td>\n",
       "      <td>2.772589</td>\n",
       "      <td>0</td>\n",
       "      <td>0</td>\n",
       "      <td>1</td>\n",
       "      <td>0</td>\n",
       "      <td>0</td>\n",
       "      <td>0</td>\n",
       "    </tr>\n",
       "    <tr>\n",
       "      <th>4</th>\n",
       "      <td>4.844187</td>\n",
       "      <td>89.0</td>\n",
       "      <td>3.295837</td>\n",
       "      <td>1</td>\n",
       "      <td>74.0</td>\n",
       "      <td>11.140673</td>\n",
       "      <td>1.609438</td>\n",
       "      <td>3.178054</td>\n",
       "      <td>1.098612</td>\n",
       "      <td>0.0</td>\n",
       "      <td>0.000000</td>\n",
       "      <td>2.772589</td>\n",
       "      <td>1</td>\n",
       "      <td>0</td>\n",
       "      <td>0</td>\n",
       "      <td>0</td>\n",
       "      <td>0</td>\n",
       "      <td>0</td>\n",
       "    </tr>\n",
       "    <tr>\n",
       "      <th>6</th>\n",
       "      <td>4.382027</td>\n",
       "      <td>96.0</td>\n",
       "      <td>3.931826</td>\n",
       "      <td>1</td>\n",
       "      <td>86.0</td>\n",
       "      <td>10.081215</td>\n",
       "      <td>2.079442</td>\n",
       "      <td>3.891820</td>\n",
       "      <td>0.693147</td>\n",
       "      <td>0.0</td>\n",
       "      <td>1.386294</td>\n",
       "      <td>2.639057</td>\n",
       "      <td>0</td>\n",
       "      <td>0</td>\n",
       "      <td>1</td>\n",
       "      <td>0</td>\n",
       "      <td>0</td>\n",
       "      <td>0</td>\n",
       "    </tr>\n",
       "    <tr>\n",
       "      <th>7</th>\n",
       "      <td>4.521789</td>\n",
       "      <td>96.0</td>\n",
       "      <td>3.332205</td>\n",
       "      <td>1</td>\n",
       "      <td>79.0</td>\n",
       "      <td>9.131622</td>\n",
       "      <td>1.791759</td>\n",
       "      <td>3.295837</td>\n",
       "      <td>0.000000</td>\n",
       "      <td>0.0</td>\n",
       "      <td>0.000000</td>\n",
       "      <td>2.639057</td>\n",
       "      <td>0</td>\n",
       "      <td>0</td>\n",
       "      <td>1</td>\n",
       "      <td>0</td>\n",
       "      <td>0</td>\n",
       "      <td>0</td>\n",
       "    </tr>\n",
       "  </tbody>\n",
       "</table>\n",
       "</div>"
      ],
      "text/plain": [
       "    runtime  tomatometer_rating  tomatometer_count  audience_status  \\\n",
       "2  4.804021                67.0           3.178054                0   \n",
       "3  4.553877               100.0           3.988984                1   \n",
       "4  4.844187                89.0           3.295837                1   \n",
       "6  4.382027                96.0           3.931826                1   \n",
       "7  4.521789                96.0           3.332205                1   \n",
       "\n",
       "   audience_rating  audience_count  tomatometer_top_critics_count  \\\n",
       "2             53.0        9.594514                       0.693147   \n",
       "3             97.0       11.565385                       1.791759   \n",
       "4             74.0       11.140673                       1.609438   \n",
       "6             86.0       10.081215                       2.079442   \n",
       "7             79.0        9.131622                       1.791759   \n",
       "\n",
       "   tomatometer_fresh_critics_count  tomatometer_rotten_critics_count  \\\n",
       "2                         2.772589                          2.079442   \n",
       "3                         3.988984                          0.000000   \n",
       "4                         3.178054                          1.098612   \n",
       "6                         3.891820                          0.693147   \n",
       "7                         3.295837                          0.000000   \n",
       "\n",
       "   num_directors  num_authors  num_actors  G  NC17  NR  PG  PG-13  R  \n",
       "2            0.0     0.000000    3.828641  0     0   0   0      0  1  \n",
       "3            0.0     0.000000    2.772589  0     0   1   0      0  0  \n",
       "4            0.0     0.000000    2.772589  1     0   0   0      0  0  \n",
       "6            0.0     1.386294    2.639057  0     0   1   0      0  0  \n",
       "7            0.0     0.000000    2.639057  0     0   1   0      0  0  "
      ]
     },
     "execution_count": 105,
     "metadata": {},
     "output_type": "execute_result"
    }
   ],
   "source": [
    "df_feature.head()"
   ]
  },
  {
   "cell_type": "code",
   "execution_count": 106,
   "metadata": {},
   "outputs": [
    {
     "data": {
      "text/plain": [
       "array([[ 1.13660688,  0.25969191, -0.00366466, ..., -0.39396009,\n",
       "        -0.3943915 ,  1.26215735],\n",
       "       [-0.33061892,  1.43583775,  0.90048811, ..., -0.39396009,\n",
       "        -0.3943915 , -0.79229424],\n",
       "       [ 1.37220165,  1.04378913,  0.12765843, ..., -0.39396009,\n",
       "        -0.3943915 , -0.79229424],\n",
       "       ...,\n",
       "       [ 0.2002929 , -0.1323567 , -1.09724764, ..., -0.39396009,\n",
       "        -0.3943915 ,  1.26215735],\n",
       "       [ 1.73051279,  1.29327461, -0.05111682, ...,  2.53832819,\n",
       "        -0.3943915 , -0.79229424],\n",
       "       [ 1.08833072, -0.3462014 , -1.22857072, ...,  2.53832819,\n",
       "        -0.3943915 , -0.79229424]])"
      ]
     },
     "execution_count": 106,
     "metadata": {},
     "output_type": "execute_result"
    }
   ],
   "source": [
    "scaler = StandardScaler()\n",
    "df_feature_scale = scaler.fit_transform(df_feature)\n",
    "df_feature_scale"
   ]
  },
  {
   "cell_type": "code",
   "execution_count": 107,
   "metadata": {},
   "outputs": [],
   "source": [
    "X_train, X_test, y_train, y_test = train_test_split(df_feature_scale, target, test_size=0.2, random_state=42)"
   ]
  },
  {
   "cell_type": "code",
   "execution_count": 108,
   "metadata": {},
   "outputs": [
    {
     "name": "stdout",
     "output_type": "stream",
     "text": [
      "Size of train data: 9420\n",
      "Size of test data: 2355\n"
     ]
    }
   ],
   "source": [
    "print(f'Size of train data: {X_train.shape[0]}\\nSize of test data: {X_test.shape[0]}')"
   ]
  },
  {
   "cell_type": "code",
   "execution_count": 109,
   "metadata": {},
   "outputs": [],
   "source": [
    "tree = DecisionTreeClassifier(random_state=2)"
   ]
  },
  {
   "cell_type": "code",
   "execution_count": 110,
   "metadata": {},
   "outputs": [
    {
     "data": {
      "text/html": [
       "<style>#sk-container-id-1 {color: black;}#sk-container-id-1 pre{padding: 0;}#sk-container-id-1 div.sk-toggleable {background-color: white;}#sk-container-id-1 label.sk-toggleable__label {cursor: pointer;display: block;width: 100%;margin-bottom: 0;padding: 0.3em;box-sizing: border-box;text-align: center;}#sk-container-id-1 label.sk-toggleable__label-arrow:before {content: \"▸\";float: left;margin-right: 0.25em;color: #696969;}#sk-container-id-1 label.sk-toggleable__label-arrow:hover:before {color: black;}#sk-container-id-1 div.sk-estimator:hover label.sk-toggleable__label-arrow:before {color: black;}#sk-container-id-1 div.sk-toggleable__content {max-height: 0;max-width: 0;overflow: hidden;text-align: left;background-color: #f0f8ff;}#sk-container-id-1 div.sk-toggleable__content pre {margin: 0.2em;color: black;border-radius: 0.25em;background-color: #f0f8ff;}#sk-container-id-1 input.sk-toggleable__control:checked~div.sk-toggleable__content {max-height: 200px;max-width: 100%;overflow: auto;}#sk-container-id-1 input.sk-toggleable__control:checked~label.sk-toggleable__label-arrow:before {content: \"▾\";}#sk-container-id-1 div.sk-estimator input.sk-toggleable__control:checked~label.sk-toggleable__label {background-color: #d4ebff;}#sk-container-id-1 div.sk-label input.sk-toggleable__control:checked~label.sk-toggleable__label {background-color: #d4ebff;}#sk-container-id-1 input.sk-hidden--visually {border: 0;clip: rect(1px 1px 1px 1px);clip: rect(1px, 1px, 1px, 1px);height: 1px;margin: -1px;overflow: hidden;padding: 0;position: absolute;width: 1px;}#sk-container-id-1 div.sk-estimator {font-family: monospace;background-color: #f0f8ff;border: 1px dotted black;border-radius: 0.25em;box-sizing: border-box;margin-bottom: 0.5em;}#sk-container-id-1 div.sk-estimator:hover {background-color: #d4ebff;}#sk-container-id-1 div.sk-parallel-item::after {content: \"\";width: 100%;border-bottom: 1px solid gray;flex-grow: 1;}#sk-container-id-1 div.sk-label:hover label.sk-toggleable__label {background-color: #d4ebff;}#sk-container-id-1 div.sk-serial::before {content: \"\";position: absolute;border-left: 1px solid gray;box-sizing: border-box;top: 0;bottom: 0;left: 50%;z-index: 0;}#sk-container-id-1 div.sk-serial {display: flex;flex-direction: column;align-items: center;background-color: white;padding-right: 0.2em;padding-left: 0.2em;position: relative;}#sk-container-id-1 div.sk-item {position: relative;z-index: 1;}#sk-container-id-1 div.sk-parallel {display: flex;align-items: stretch;justify-content: center;background-color: white;position: relative;}#sk-container-id-1 div.sk-item::before, #sk-container-id-1 div.sk-parallel-item::before {content: \"\";position: absolute;border-left: 1px solid gray;box-sizing: border-box;top: 0;bottom: 0;left: 50%;z-index: -1;}#sk-container-id-1 div.sk-parallel-item {display: flex;flex-direction: column;z-index: 1;position: relative;background-color: white;}#sk-container-id-1 div.sk-parallel-item:first-child::after {align-self: flex-end;width: 50%;}#sk-container-id-1 div.sk-parallel-item:last-child::after {align-self: flex-start;width: 50%;}#sk-container-id-1 div.sk-parallel-item:only-child::after {width: 0;}#sk-container-id-1 div.sk-dashed-wrapped {border: 1px dashed gray;margin: 0 0.4em 0.5em 0.4em;box-sizing: border-box;padding-bottom: 0.4em;background-color: white;}#sk-container-id-1 div.sk-label label {font-family: monospace;font-weight: bold;display: inline-block;line-height: 1.2em;}#sk-container-id-1 div.sk-label-container {text-align: center;}#sk-container-id-1 div.sk-container {/* jupyter's `normalize.less` sets `[hidden] { display: none; }` but bootstrap.min.css set `[hidden] { display: none !important; }` so we also need the `!important` here to be able to override the default hidden behavior on the sphinx rendered scikit-learn.org. See: https://github.com/scikit-learn/scikit-learn/issues/21755 */display: inline-block !important;position: relative;}#sk-container-id-1 div.sk-text-repr-fallback {display: none;}</style><div id=\"sk-container-id-1\" class=\"sk-top-container\"><div class=\"sk-text-repr-fallback\"><pre>DecisionTreeClassifier(random_state=2)</pre><b>In a Jupyter environment, please rerun this cell to show the HTML representation or trust the notebook. <br />On GitHub, the HTML representation is unable to render, please try loading this page with nbviewer.org.</b></div><div class=\"sk-container\" hidden><div class=\"sk-item\"><div class=\"sk-estimator sk-toggleable\"><input class=\"sk-toggleable__control sk-hidden--visually\" id=\"sk-estimator-id-1\" type=\"checkbox\" checked><label for=\"sk-estimator-id-1\" class=\"sk-toggleable__label sk-toggleable__label-arrow\">DecisionTreeClassifier</label><div class=\"sk-toggleable__content\"><pre>DecisionTreeClassifier(random_state=2)</pre></div></div></div></div></div>"
      ],
      "text/plain": [
       "DecisionTreeClassifier(random_state=2)"
      ]
     },
     "execution_count": 110,
     "metadata": {},
     "output_type": "execute_result"
    }
   ],
   "source": [
    "tree.fit(X_train, y_train)"
   ]
  },
  {
   "cell_type": "code",
   "execution_count": 111,
   "metadata": {},
   "outputs": [
    {
     "data": {
      "text/plain": [
       "[Text(0.2800245098039216, 0.9736842105263158, 'x[1] <= -0.008\\ngini = 0.615\\nsamples = 9420\\nvalue = [4195, 3825, 1400]'),\n",
       " Text(0.26433823529411765, 0.9210526315789473, 'gini = 0.0\\nsamples = 4195\\nvalue = [4195, 0, 0]'),\n",
       " Text(0.2957107843137255, 0.9210526315789473, 'x[2] <= 0.552\\ngini = 0.392\\nsamples = 5225\\nvalue = [0, 3825, 1400]'),\n",
       " Text(0.06274509803921569, 0.868421052631579, 'x[6] <= 0.956\\ngini = 0.001\\nsamples = 3251\\nvalue = [0, 3249, 2]'),\n",
       " Text(0.03137254901960784, 0.8157894736842105, 'x[6] <= 0.577\\ngini = 0.001\\nsamples = 3227\\nvalue = [0, 3226, 1]'),\n",
       " Text(0.01568627450980392, 0.7631578947368421, 'gini = 0.0\\nsamples = 2973\\nvalue = [0, 2973, 0]'),\n",
       " Text(0.047058823529411764, 0.7631578947368421, 'x[5] <= -0.189\\ngini = 0.008\\nsamples = 254\\nvalue = [0, 253, 1]'),\n",
       " Text(0.03137254901960784, 0.7105263157894737, 'gini = 0.0\\nsamples = 190\\nvalue = [0, 190, 0]'),\n",
       " Text(0.06274509803921569, 0.7105263157894737, 'x[5] <= -0.188\\ngini = 0.031\\nsamples = 64\\nvalue = [0, 63, 1]'),\n",
       " Text(0.047058823529411764, 0.6578947368421053, 'gini = 0.0\\nsamples = 1\\nvalue = [0, 0, 1]'),\n",
       " Text(0.0784313725490196, 0.6578947368421053, 'gini = 0.0\\nsamples = 63\\nvalue = [0, 63, 0]'),\n",
       " Text(0.09411764705882353, 0.8157894736842105, 'x[11] <= 0.951\\ngini = 0.08\\nsamples = 24\\nvalue = [0, 23, 1]'),\n",
       " Text(0.0784313725490196, 0.7631578947368421, 'gini = 0.0\\nsamples = 23\\nvalue = [0, 23, 0]'),\n",
       " Text(0.10980392156862745, 0.7631578947368421, 'gini = 0.0\\nsamples = 1\\nvalue = [0, 0, 1]'),\n",
       " Text(0.5286764705882353, 0.868421052631579, 'x[1] <= 0.527\\ngini = 0.413\\nsamples = 1974\\nvalue = [0, 576, 1398]'),\n",
       " Text(0.2534313725490196, 0.8157894736842105, 'x[1] <= 0.42\\ngini = 0.174\\nsamples = 622\\nvalue = [0, 562, 60]'),\n",
       " Text(0.1411764705882353, 0.7631578947368421, 'x[1] <= 0.349\\ngini = 0.025\\nsamples = 483\\nvalue = [0, 477, 6]'),\n",
       " Text(0.12549019607843137, 0.7105263157894737, 'gini = 0.0\\nsamples = 402\\nvalue = [0, 402, 0]'),\n",
       " Text(0.1568627450980392, 0.7105263157894737, 'x[0] <= -1.491\\ngini = 0.137\\nsamples = 81\\nvalue = [0, 75, 6]'),\n",
       " Text(0.1411764705882353, 0.6578947368421053, 'gini = 0.0\\nsamples = 1\\nvalue = [0, 0, 1]'),\n",
       " Text(0.17254901960784313, 0.6578947368421053, 'x[6] <= 1.797\\ngini = 0.117\\nsamples = 80\\nvalue = [0, 75, 5]'),\n",
       " Text(0.12941176470588237, 0.6052631578947368, 'x[4] <= 0.967\\ngini = 0.097\\nsamples = 78\\nvalue = [0, 74, 4]'),\n",
       " Text(0.09019607843137255, 0.5526315789473685, 'x[12] <= 2.135\\ngini = 0.058\\nsamples = 67\\nvalue = [0, 65, 2]'),\n",
       " Text(0.058823529411764705, 0.5, 'x[8] <= 1.39\\ngini = 0.031\\nsamples = 63\\nvalue = [0, 62, 1]'),\n",
       " Text(0.043137254901960784, 0.4473684210526316, 'gini = 0.0\\nsamples = 52\\nvalue = [0, 52, 0]'),\n",
       " Text(0.07450980392156863, 0.4473684210526316, 'x[2] <= 1.786\\ngini = 0.165\\nsamples = 11\\nvalue = [0, 10, 1]'),\n",
       " Text(0.058823529411764705, 0.39473684210526316, 'gini = 0.0\\nsamples = 1\\nvalue = [0, 0, 1]'),\n",
       " Text(0.09019607843137255, 0.39473684210526316, 'gini = 0.0\\nsamples = 10\\nvalue = [0, 10, 0]'),\n",
       " Text(0.12156862745098039, 0.5, 'x[0] <= -0.351\\ngini = 0.375\\nsamples = 4\\nvalue = [0, 3, 1]'),\n",
       " Text(0.10588235294117647, 0.4473684210526316, 'gini = 0.0\\nsamples = 3\\nvalue = [0, 3, 0]'),\n",
       " Text(0.13725490196078433, 0.4473684210526316, 'gini = 0.0\\nsamples = 1\\nvalue = [0, 0, 1]'),\n",
       " Text(0.16862745098039217, 0.5526315789473685, 'x[4] <= 1.064\\ngini = 0.298\\nsamples = 11\\nvalue = [0, 9, 2]'),\n",
       " Text(0.15294117647058825, 0.5, 'gini = 0.0\\nsamples = 2\\nvalue = [0, 0, 2]'),\n",
       " Text(0.1843137254901961, 0.5, 'gini = 0.0\\nsamples = 9\\nvalue = [0, 9, 0]'),\n",
       " Text(0.21568627450980393, 0.6052631578947368, 'x[4] <= 0.045\\ngini = 0.5\\nsamples = 2\\nvalue = [0, 1, 1]'),\n",
       " Text(0.2, 0.5526315789473685, 'gini = 0.0\\nsamples = 1\\nvalue = [0, 1, 0]'),\n",
       " Text(0.23137254901960785, 0.5526315789473685, 'gini = 0.0\\nsamples = 1\\nvalue = [0, 0, 1]'),\n",
       " Text(0.3656862745098039, 0.7631578947368421, 'x[2] <= 0.826\\ngini = 0.475\\nsamples = 139\\nvalue = [0, 85, 54]'),\n",
       " Text(0.24705882352941178, 0.7105263157894737, 'x[16] <= 1.071\\ngini = 0.159\\nsamples = 23\\nvalue = [0, 21, 2]'),\n",
       " Text(0.23137254901960785, 0.6578947368421053, 'gini = 0.0\\nsamples = 19\\nvalue = [0, 19, 0]'),\n",
       " Text(0.2627450980392157, 0.6578947368421053, 'x[4] <= 1.307\\ngini = 0.5\\nsamples = 4\\nvalue = [0, 2, 2]'),\n",
       " Text(0.24705882352941178, 0.6052631578947368, 'gini = 0.0\\nsamples = 2\\nvalue = [0, 0, 2]'),\n",
       " Text(0.2784313725490196, 0.6052631578947368, 'gini = 0.0\\nsamples = 2\\nvalue = [0, 2, 0]'),\n",
       " Text(0.4843137254901961, 0.7105263157894737, 'x[1] <= 0.456\\ngini = 0.495\\nsamples = 116\\nvalue = [0, 64, 52]'),\n",
       " Text(0.3254901960784314, 0.6578947368421053, 'x[10] <= 0.902\\ngini = 0.388\\nsamples = 38\\nvalue = [0, 28, 10]'),\n",
       " Text(0.30980392156862746, 0.6052631578947368, 'x[0] <= -0.552\\ngini = 0.444\\nsamples = 30\\nvalue = [0, 20, 10]'),\n",
       " Text(0.2784313725490196, 0.5526315789473685, 'x[4] <= 0.87\\ngini = 0.198\\nsamples = 9\\nvalue = [0, 8, 1]'),\n",
       " Text(0.2627450980392157, 0.5, 'gini = 0.0\\nsamples = 8\\nvalue = [0, 8, 0]'),\n",
       " Text(0.29411764705882354, 0.5, 'gini = 0.0\\nsamples = 1\\nvalue = [0, 0, 1]'),\n",
       " Text(0.3411764705882353, 0.5526315789473685, 'x[4] <= 0.894\\ngini = 0.49\\nsamples = 21\\nvalue = [0, 12, 9]'),\n",
       " Text(0.3254901960784314, 0.5, 'x[0] <= 0.172\\ngini = 0.498\\nsamples = 17\\nvalue = [0, 8, 9]'),\n",
       " Text(0.29411764705882354, 0.4473684210526316, 'x[11] <= -1.145\\ngini = 0.278\\nsamples = 6\\nvalue = [0, 1, 5]'),\n",
       " Text(0.2784313725490196, 0.39473684210526316, 'x[14] <= 0.448\\ngini = 0.5\\nsamples = 2\\nvalue = [0, 1, 1]'),\n",
       " Text(0.2627450980392157, 0.34210526315789475, 'gini = 0.0\\nsamples = 1\\nvalue = [0, 1, 0]'),\n",
       " Text(0.29411764705882354, 0.34210526315789475, 'gini = 0.0\\nsamples = 1\\nvalue = [0, 0, 1]'),\n",
       " Text(0.30980392156862746, 0.39473684210526316, 'gini = 0.0\\nsamples = 4\\nvalue = [0, 0, 4]'),\n",
       " Text(0.3568627450980392, 0.4473684210526316, 'x[5] <= 0.208\\ngini = 0.463\\nsamples = 11\\nvalue = [0, 7, 4]'),\n",
       " Text(0.3411764705882353, 0.39473684210526316, 'gini = 0.0\\nsamples = 4\\nvalue = [0, 4, 0]'),\n",
       " Text(0.37254901960784315, 0.39473684210526316, 'x[17] <= 0.235\\ngini = 0.49\\nsamples = 7\\nvalue = [0, 3, 4]'),\n",
       " Text(0.3568627450980392, 0.34210526315789475, 'gini = 0.0\\nsamples = 2\\nvalue = [0, 2, 0]'),\n",
       " Text(0.38823529411764707, 0.34210526315789475, 'x[6] <= 1.425\\ngini = 0.32\\nsamples = 5\\nvalue = [0, 1, 4]'),\n",
       " Text(0.37254901960784315, 0.2894736842105263, 'gini = 0.0\\nsamples = 3\\nvalue = [0, 0, 3]'),\n",
       " Text(0.403921568627451, 0.2894736842105263, 'x[4] <= 0.239\\ngini = 0.5\\nsamples = 2\\nvalue = [0, 1, 1]'),\n",
       " Text(0.38823529411764707, 0.23684210526315788, 'gini = 0.0\\nsamples = 1\\nvalue = [0, 1, 0]'),\n",
       " Text(0.4196078431372549, 0.23684210526315788, 'gini = 0.0\\nsamples = 1\\nvalue = [0, 0, 1]'),\n",
       " Text(0.3568627450980392, 0.5, 'gini = 0.0\\nsamples = 4\\nvalue = [0, 4, 0]'),\n",
       " Text(0.3411764705882353, 0.6052631578947368, 'gini = 0.0\\nsamples = 8\\nvalue = [0, 8, 0]'),\n",
       " Text(0.6431372549019608, 0.6578947368421053, 'x[8] <= 1.463\\ngini = 0.497\\nsamples = 78\\nvalue = [0, 36, 42]'),\n",
       " Text(0.6274509803921569, 0.6052631578947368, 'x[5] <= 1.263\\ngini = 0.493\\nsamples = 75\\nvalue = [0, 33, 42]'),\n",
       " Text(0.5686274509803921, 0.5526315789473685, 'x[5] <= 1.185\\ngini = 0.499\\nsamples = 58\\nvalue = [0, 30, 28]'),\n",
       " Text(0.5529411764705883, 0.5, 'x[0] <= 1.347\\ngini = 0.495\\nsamples = 51\\nvalue = [0, 23, 28]'),\n",
       " Text(0.5372549019607843, 0.4473684210526316, 'x[11] <= 0.217\\ngini = 0.5\\nsamples = 46\\nvalue = [0, 23, 23]'),\n",
       " Text(0.4823529411764706, 0.39473684210526316, 'x[4] <= -0.343\\ngini = 0.469\\nsamples = 32\\nvalue = [0, 12, 20]'),\n",
       " Text(0.45098039215686275, 0.34210526315789475, 'x[8] <= 0.993\\ngini = 0.444\\nsamples = 9\\nvalue = [0, 6, 3]'),\n",
       " Text(0.43529411764705883, 0.2894736842105263, 'gini = 0.0\\nsamples = 4\\nvalue = [0, 4, 0]'),\n",
       " Text(0.4666666666666667, 0.2894736842105263, 'x[5] <= -0.09\\ngini = 0.48\\nsamples = 5\\nvalue = [0, 2, 3]'),\n",
       " Text(0.45098039215686275, 0.23684210526315788, 'gini = 0.0\\nsamples = 3\\nvalue = [0, 0, 3]'),\n",
       " Text(0.4823529411764706, 0.23684210526315788, 'gini = 0.0\\nsamples = 2\\nvalue = [0, 2, 0]'),\n",
       " Text(0.5137254901960784, 0.34210526315789475, 'x[11] <= -1.517\\ngini = 0.386\\nsamples = 23\\nvalue = [0, 6, 17]'),\n",
       " Text(0.4980392156862745, 0.2894736842105263, 'gini = 0.0\\nsamples = 2\\nvalue = [0, 2, 0]'),\n",
       " Text(0.5294117647058824, 0.2894736842105263, 'x[10] <= -0.186\\ngini = 0.308\\nsamples = 21\\nvalue = [0, 4, 17]'),\n",
       " Text(0.5137254901960784, 0.23684210526315788, 'x[8] <= 1.252\\ngini = 0.463\\nsamples = 11\\nvalue = [0, 4, 7]'),\n",
       " Text(0.4980392156862745, 0.18421052631578946, 'x[0] <= -0.623\\ngini = 0.346\\nsamples = 9\\nvalue = [0, 2, 7]'),\n",
       " Text(0.4823529411764706, 0.13157894736842105, 'gini = 0.0\\nsamples = 1\\nvalue = [0, 1, 0]'),\n",
       " Text(0.5137254901960784, 0.13157894736842105, 'x[17] <= 0.235\\ngini = 0.219\\nsamples = 8\\nvalue = [0, 1, 7]'),\n",
       " Text(0.4980392156862745, 0.07894736842105263, 'gini = 0.0\\nsamples = 6\\nvalue = [0, 0, 6]'),\n",
       " Text(0.5294117647058824, 0.07894736842105263, 'x[11] <= -0.766\\ngini = 0.5\\nsamples = 2\\nvalue = [0, 1, 1]'),\n",
       " Text(0.5137254901960784, 0.02631578947368421, 'gini = 0.0\\nsamples = 1\\nvalue = [0, 0, 1]'),\n",
       " Text(0.5450980392156862, 0.02631578947368421, 'gini = 0.0\\nsamples = 1\\nvalue = [0, 1, 0]'),\n",
       " Text(0.5294117647058824, 0.18421052631578946, 'gini = 0.0\\nsamples = 2\\nvalue = [0, 2, 0]'),\n",
       " Text(0.5450980392156862, 0.23684210526315788, 'gini = 0.0\\nsamples = 10\\nvalue = [0, 0, 10]'),\n",
       " Text(0.592156862745098, 0.39473684210526316, 'x[0] <= -0.362\\ngini = 0.337\\nsamples = 14\\nvalue = [0, 11, 3]'),\n",
       " Text(0.5764705882352941, 0.34210526315789475, 'gini = 0.0\\nsamples = 2\\nvalue = [0, 0, 2]'),\n",
       " Text(0.6078431372549019, 0.34210526315789475, 'x[3] <= -0.061\\ngini = 0.153\\nsamples = 12\\nvalue = [0, 11, 1]'),\n",
       " Text(0.592156862745098, 0.2894736842105263, 'x[5] <= -0.45\\ngini = 0.5\\nsamples = 2\\nvalue = [0, 1, 1]'),\n",
       " Text(0.5764705882352941, 0.23684210526315788, 'gini = 0.0\\nsamples = 1\\nvalue = [0, 1, 0]'),\n",
       " Text(0.6078431372549019, 0.23684210526315788, 'gini = 0.0\\nsamples = 1\\nvalue = [0, 0, 1]'),\n",
       " Text(0.6235294117647059, 0.2894736842105263, 'gini = 0.0\\nsamples = 10\\nvalue = [0, 10, 0]'),\n",
       " Text(0.5686274509803921, 0.4473684210526316, 'gini = 0.0\\nsamples = 5\\nvalue = [0, 0, 5]'),\n",
       " Text(0.5843137254901961, 0.5, 'gini = 0.0\\nsamples = 7\\nvalue = [0, 7, 0]'),\n",
       " Text(0.6862745098039216, 0.5526315789473685, 'x[11] <= 1.441\\ngini = 0.291\\nsamples = 17\\nvalue = [0, 3, 14]'),\n",
       " Text(0.6549019607843137, 0.5, 'x[3] <= -0.061\\ngini = 0.133\\nsamples = 14\\nvalue = [0, 1, 13]'),\n",
       " Text(0.6392156862745098, 0.4473684210526316, 'x[15] <= 1.072\\ngini = 0.444\\nsamples = 3\\nvalue = [0, 1, 2]'),\n",
       " Text(0.6235294117647059, 0.39473684210526316, 'gini = 0.0\\nsamples = 2\\nvalue = [0, 0, 2]'),\n",
       " Text(0.6549019607843137, 0.39473684210526316, 'gini = 0.0\\nsamples = 1\\nvalue = [0, 1, 0]'),\n",
       " Text(0.6705882352941176, 0.4473684210526316, 'gini = 0.0\\nsamples = 11\\nvalue = [0, 0, 11]'),\n",
       " Text(0.7176470588235294, 0.5, 'x[6] <= 0.664\\ngini = 0.444\\nsamples = 3\\nvalue = [0, 2, 1]'),\n",
       " Text(0.7019607843137254, 0.4473684210526316, 'gini = 0.0\\nsamples = 1\\nvalue = [0, 0, 1]'),\n",
       " Text(0.7333333333333333, 0.4473684210526316, 'gini = 0.0\\nsamples = 2\\nvalue = [0, 2, 0]'),\n",
       " Text(0.6588235294117647, 0.6052631578947368, 'gini = 0.0\\nsamples = 3\\nvalue = [0, 3, 0]'),\n",
       " Text(0.803921568627451, 0.8157894736842105, 'x[6] <= -0.273\\ngini = 0.02\\nsamples = 1352\\nvalue = [0, 14, 1338]'),\n",
       " Text(0.788235294117647, 0.7631578947368421, 'gini = 0.0\\nsamples = 8\\nvalue = [0, 8, 0]'),\n",
       " Text(0.8196078431372549, 0.7631578947368421, 'x[7] <= 0.752\\ngini = 0.009\\nsamples = 1344\\nvalue = [0, 6, 1338]'),\n",
       " Text(0.7647058823529411, 0.7105263157894737, 'x[0] <= -0.835\\ngini = 0.5\\nsamples = 2\\nvalue = [0, 1, 1]'),\n",
       " Text(0.7490196078431373, 0.6578947368421053, 'gini = 0.0\\nsamples = 1\\nvalue = [0, 1, 0]'),\n",
       " Text(0.7803921568627451, 0.6578947368421053, 'gini = 0.0\\nsamples = 1\\nvalue = [0, 0, 1]'),\n",
       " Text(0.8745098039215686, 0.7105263157894737, 'x[1] <= 0.598\\ngini = 0.007\\nsamples = 1342\\nvalue = [0, 5, 1337]'),\n",
       " Text(0.8117647058823529, 0.6578947368421053, 'x[9] <= 1.099\\ngini = 0.074\\nsamples = 78\\nvalue = [0, 3, 75]'),\n",
       " Text(0.7803921568627451, 0.6052631578947368, 'x[11] <= 0.778\\ngini = 0.054\\nsamples = 72\\nvalue = [0, 2, 70]'),\n",
       " Text(0.7647058823529411, 0.5526315789473685, 'gini = 0.0\\nsamples = 52\\nvalue = [0, 0, 52]'),\n",
       " Text(0.796078431372549, 0.5526315789473685, 'x[14] <= 0.448\\ngini = 0.18\\nsamples = 20\\nvalue = [0, 2, 18]'),\n",
       " Text(0.7803921568627451, 0.5, 'x[11] <= 0.844\\ngini = 0.1\\nsamples = 19\\nvalue = [0, 1, 18]'),\n",
       " Text(0.7647058823529411, 0.4473684210526316, 'gini = 0.0\\nsamples = 1\\nvalue = [0, 1, 0]'),\n",
       " Text(0.796078431372549, 0.4473684210526316, 'gini = 0.0\\nsamples = 18\\nvalue = [0, 0, 18]'),\n",
       " Text(0.8117647058823529, 0.5, 'gini = 0.0\\nsamples = 1\\nvalue = [0, 1, 0]'),\n",
       " Text(0.8431372549019608, 0.6052631578947368, 'x[3] <= -0.061\\ngini = 0.278\\nsamples = 6\\nvalue = [0, 1, 5]'),\n",
       " Text(0.8274509803921568, 0.5526315789473685, 'gini = 0.0\\nsamples = 1\\nvalue = [0, 1, 0]'),\n",
       " Text(0.8588235294117647, 0.5526315789473685, 'gini = 0.0\\nsamples = 5\\nvalue = [0, 0, 5]'),\n",
       " Text(0.9372549019607843, 0.6578947368421053, 'x[0] <= 3.72\\ngini = 0.003\\nsamples = 1264\\nvalue = [0, 2, 1262]'),\n",
       " Text(0.9058823529411765, 0.6052631578947368, 'x[11] <= -1.766\\ngini = 0.002\\nsamples = 1250\\nvalue = [0, 1, 1249]'),\n",
       " Text(0.8901960784313725, 0.5526315789473685, 'x[4] <= 1.549\\ngini = 0.034\\nsamples = 57\\nvalue = [0, 1, 56]'),\n",
       " Text(0.8745098039215686, 0.5, 'gini = 0.0\\nsamples = 53\\nvalue = [0, 0, 53]'),\n",
       " Text(0.9058823529411765, 0.5, 'x[0] <= -0.983\\ngini = 0.375\\nsamples = 4\\nvalue = [0, 1, 3]'),\n",
       " Text(0.8901960784313725, 0.4473684210526316, 'gini = 0.0\\nsamples = 1\\nvalue = [0, 1, 0]'),\n",
       " Text(0.9215686274509803, 0.4473684210526316, 'gini = 0.0\\nsamples = 3\\nvalue = [0, 0, 3]'),\n",
       " Text(0.9215686274509803, 0.5526315789473685, 'gini = 0.0\\nsamples = 1193\\nvalue = [0, 0, 1193]'),\n",
       " Text(0.9686274509803922, 0.6052631578947368, 'x[0] <= 3.811\\ngini = 0.133\\nsamples = 14\\nvalue = [0, 1, 13]'),\n",
       " Text(0.9529411764705882, 0.5526315789473685, 'gini = 0.0\\nsamples = 1\\nvalue = [0, 1, 0]'),\n",
       " Text(0.984313725490196, 0.5526315789473685, 'gini = 0.0\\nsamples = 13\\nvalue = [0, 0, 13]')]"
      ]
     },
     "execution_count": 111,
     "metadata": {},
     "output_type": "execute_result"
    },
    {
     "data": {
      "image/png": "[encoded data removed]",
      "text/plain": [
       "<Figure size 432x288 with 1 Axes>"
      ]
     },
     "metadata": {
      "needs_background": "light"
     },
     "output_type": "display_data"
    }
   ],
   "source": [
    "plot_tree(tree)"
   ]
  },
  {
   "cell_type": "code",
   "execution_count": 112,
   "metadata": {},
   "outputs": [],
   "source": [
    "y_predict = tree.predict(X_test)"
   ]
  },
  {
   "cell_type": "code",
   "execution_count": 113,
   "metadata": {},
   "outputs": [
    {
     "name": "stdout",
     "output_type": "stream",
     "text": [
      "0.9893842887473461\n",
      "              precision    recall  f1-score   support\n",
      "\n",
      "           0       1.00      1.00      1.00      1027\n",
      "           1       0.98      0.99      0.99       960\n",
      "           2       0.97      0.96      0.97       368\n",
      "\n",
      "    accuracy                           0.99      2355\n",
      "   macro avg       0.99      0.98      0.98      2355\n",
      "weighted avg       0.99      0.99      0.99      2355\n",
      "\n"
     ]
    }
   ],
   "source": [
    "print(accuracy_score(y_test, y_predict))\n",
    "print(classification_report(y_test, y_predict))"
   ]
  },
  {
   "cell_type": "code",
   "execution_count": 114,
   "metadata": {},
   "outputs": [
    {
     "name": "stdout",
     "output_type": "stream",
     "text": [
      "[[1027    0    0]\n",
      " [   0  950   10]\n",
      " [   0   15  353]]\n"
     ]
    },
    {
     "data": {
      "text/plain": [
       "Text(33.0, 0.5, 'ACTUAL')"
      ]
     },
     "execution_count": 114,
     "metadata": {},
     "output_type": "execute_result"
    },
    {
     "data": {
      "image/png": "[encoded data removed]",
      "text/plain": [
       "<Figure size 432x288 with 2 Axes>"
      ]
     },
     "metadata": {
      "needs_background": "light"
     },
     "output_type": "display_data"
    }
   ],
   "source": [
    "print(confusion_matrix(y_test, y_predict))\n",
    "sns.heatmap(confusion_matrix(y_test, y_predict), annot=True)\n",
    "plt.xlabel('PREDICT')\n",
    "plt.ylabel('ACTUAL')"
   ]
  },
  {
   "cell_type": "markdown",
   "metadata": {},
   "source": [
    "Random forest"
   ]
  },
  {
   "cell_type": "code",
   "execution_count": 115,
   "metadata": {},
   "outputs": [],
   "source": [
    "random_forest = RandomForestClassifier(random_state=2)"
   ]
  },
  {
   "cell_type": "code",
   "execution_count": 119,
   "metadata": {},
   "outputs": [],
   "source": [
    "random_forest.fit(X_train, y_train)\n",
    "y_predict = random_forest.predict(X_test)"
   ]
  },
  {
   "cell_type": "code",
   "execution_count": 120,
   "metadata": {},
   "outputs": [
    {
     "name": "stdout",
     "output_type": "stream",
     "text": [
      "0.9915074309978769\n",
      "              precision    recall  f1-score   support\n",
      "\n",
      "           0       1.00      1.00      1.00      1027\n",
      "           1       0.98      1.00      0.99       960\n",
      "           2       0.99      0.96      0.97       368\n",
      "\n",
      "    accuracy                           0.99      2355\n",
      "   macro avg       0.99      0.98      0.99      2355\n",
      "weighted avg       0.99      0.99      0.99      2355\n",
      "\n"
     ]
    }
   ],
   "source": [
    "print(accuracy_score(y_test, y_predict))\n",
    "print(classification_report(y_test, y_predict))"
   ]
  },
  {
   "cell_type": "code",
   "execution_count": 121,
   "metadata": {},
   "outputs": [
    {
     "name": "stdout",
     "output_type": "stream",
     "text": [
      "[[1027    0    0]\n",
      " [   0  956    4]\n",
      " [   0   16  352]]\n"
     ]
    },
    {
     "data": {
      "text/plain": [
       "Text(33.0, 0.5, 'ACTUAL')"
      ]
     },
     "execution_count": 121,
     "metadata": {},
     "output_type": "execute_result"
    },
    {
     "data": {
      "image/png": "[encoded data removed]",
      "text/plain": [
       "<Figure size 432x288 with 2 Axes>"
      ]
     },
     "metadata": {
      "needs_background": "light"
     },
     "output_type": "display_data"
    }
   ],
   "source": [
    "print(confusion_matrix(y_test, y_predict))\n",
    "sns.heatmap(confusion_matrix(y_test, y_predict), annot=True)\n",
    "plt.xlabel('PREDICT')\n",
    "plt.ylabel('ACTUAL')"
   ]
  },
  {
   "cell_type": "code",
   "execution_count": 122,
   "metadata": {},
   "outputs": [
    {
     "name": "stdout",
     "output_type": "stream",
     "text": [
      "fruntime: 0.004397083296385907\n",
      "ftomatometer_rating: 0.522064962068805\n",
      "ftomatometer_count: 0.09693235316368588\n",
      "faudience_status: 0.02707797816073271\n",
      "faudience_rating: 0.04350468565600802\n",
      "faudience_count: 0.010889519154471717\n",
      "ftomatometer_top_critics_count: 0.027229304062177596\n",
      "ftomatometer_fresh_critics_count: 0.1330198409391083\n",
      "ftomatometer_rotten_critics_count: 0.1160274015503831\n",
      "fnum_directors: 0.0006325369978027552\n",
      "fnum_authors: 0.0014807276827121124\n",
      "fnum_actors: 0.004527988318280005\n",
      "fG: 0.00026691397614902297\n",
      "fNC17: 2.1950577772793267e-05\n",
      "fNR: 0.00798304330163969\n",
      "fPG: 0.0004690805392571374\n",
      "fPG-13: 0.0013487979856973468\n",
      "fR: 0.0021258325689310245\n"
     ]
    },
    {
     "data": {
      "text/plain": [
       "([<matplotlib.axis.YTick at 0x20ed30ab4c0>,\n",
       "  <matplotlib.axis.YTick at 0x20ed30b8a90>,\n",
       "  <matplotlib.axis.YTick at 0x20ed30b2fd0>,\n",
       "  <matplotlib.axis.YTick at 0x20ed3100df0>,\n",
       "  <matplotlib.axis.YTick at 0x20ed310e580>,\n",
       "  <matplotlib.axis.YTick at 0x20ed3100e20>,\n",
       "  <matplotlib.axis.YTick at 0x20ed310edf0>,\n",
       "  <matplotlib.axis.YTick at 0x20ed3114580>,\n",
       "  <matplotlib.axis.YTick at 0x20ed3114cd0>,\n",
       "  <matplotlib.axis.YTick at 0x20ed311c460>,\n",
       "  <matplotlib.axis.YTick at 0x20ed311cbb0>,\n",
       "  <matplotlib.axis.YTick at 0x20ed3123340>,\n",
       "  <matplotlib.axis.YTick at 0x20ed311c760>,\n",
       "  <matplotlib.axis.YTick at 0x20ed3114520>,\n",
       "  <matplotlib.axis.YTick at 0x20ed3123850>,\n",
       "  <matplotlib.axis.YTick at 0x20ed31290a0>,\n",
       "  <matplotlib.axis.YTick at 0x20ed3129730>,\n",
       "  <matplotlib.axis.YTick at 0x20ed3129e80>],\n",
       " [Text(0, 0, 'runtime'),\n",
       "  Text(0, 1, 'tomatometer_rating'),\n",
       "  Text(0, 2, 'tomatometer_count'),\n",
       "  Text(0, 3, 'audience_status'),\n",
       "  Text(0, 4, 'audience_rating'),\n",
       "  Text(0, 5, 'audience_count'),\n",
       "  Text(0, 6, 'tomatometer_top_critics_count'),\n",
       "  Text(0, 7, 'tomatometer_fresh_critics_count'),\n",
       "  Text(0, 8, 'tomatometer_rotten_critics_count'),\n",
       "  Text(0, 9, 'num_directors'),\n",
       "  Text(0, 10, 'num_authors'),\n",
       "  Text(0, 11, 'num_actors'),\n",
       "  Text(0, 12, 'G'),\n",
       "  Text(0, 13, 'NC17'),\n",
       "  Text(0, 14, 'NR'),\n",
       "  Text(0, 15, 'PG'),\n",
       "  Text(0, 16, 'PG-13'),\n",
       "  Text(0, 17, 'R')])"
      ]
     },
     "execution_count": 122,
     "metadata": {},
     "output_type": "execute_result"
    },
    {
     "data": {
      "image/png": "[encoded data removed]",
      "text/plain": [
       "<Figure size 432x288 with 1 Axes>"
      ]
     },
     "metadata": {
      "needs_background": "light"
     },
     "output_type": "display_data"
    }
   ],
   "source": [
    "feature_importances = random_forest.feature_importances_\n",
    "for index, feature in enumerate(df_feature.columns):\n",
    "    print(f'f{feature}: {feature_importances[index]}')\n",
    "\n",
    "plt.barh(np.arange(len(feature_importances)), feature_importances)\n",
    "plt.title('Feature Importance')\n",
    "plt.xlabel('Importance')\n",
    "plt.yticks(np.arange(len(feature_importances)), df_feature.columns)"
   ]
  },
  {
   "cell_type": "markdown",
   "metadata": {},
   "source": [
    "Feature Selection"
   ]
  },
  {
   "cell_type": "code",
   "execution_count": 123,
   "metadata": {},
   "outputs": [
    {
     "data": {
      "text/plain": [
       "array([[ 0.25969191, -0.00366466, -1.06322646, ..., -0.99834516,\n",
       "         0.22228994,  0.10197493],\n",
       "       [ 1.43583775,  0.90048811,  0.9405334 , ..., -0.00843641,\n",
       "         1.22130938, -1.73058151],\n",
       "       [ 1.04378913,  0.12765843,  0.9405334 , ..., -0.17271794,\n",
       "         0.55529642, -0.76240376],\n",
       "       ...,\n",
       "       [-0.1323567 , -1.09724764,  0.9405334 , ..., -0.99834516,\n",
       "        -0.73300005, -0.50887721],\n",
       "       [ 1.29327461, -0.05111682,  0.9405334 , ..., -0.00843641,\n",
       "         0.48383441, -1.73058151],\n",
       "       [-0.3462014 , -1.22857072,  0.9405334 , ..., -1.62290804,\n",
       "        -0.91626674, -0.50887721]])"
      ]
     },
     "execution_count": 123,
     "metadata": {},
     "output_type": "execute_result"
    }
   ],
   "source": [
    "scaler = StandardScaler()\n",
    "df_feature_scale = scaler.fit_transform(df_feature.drop(['R', 'PG-13', 'PG', 'NR', 'NC17', 'G', 'num_actors', 'num_authors', 'num_directors', 'runtime'], axis=1))\n",
    "df_feature_scale"
   ]
  },
  {
   "cell_type": "code",
   "execution_count": 124,
   "metadata": {},
   "outputs": [
    {
     "name": "stdout",
     "output_type": "stream",
     "text": [
      "Size of train data: 9420\n",
      "Size of test data: 2355\n"
     ]
    }
   ],
   "source": [
    "X_train, X_test, y_train, y_test = train_test_split(df_feature_scale, target, test_size=0.2, random_state=42)\n",
    "print(f'Size of train data: {X_train.shape[0]}\\nSize of test data: {X_test.shape[0]}')"
   ]
  },
  {
   "cell_type": "code",
   "execution_count": 125,
   "metadata": {},
   "outputs": [],
   "source": [
    "random_forest = RandomForestClassifier(random_state=2)"
   ]
  },
  {
   "cell_type": "code",
   "execution_count": 126,
   "metadata": {},
   "outputs": [],
   "source": [
    "random_forest.fit(X_train, y_train)\n",
    "y_predict = random_forest.predict(X_test)"
   ]
  },
  {
   "cell_type": "code",
   "execution_count": 127,
   "metadata": {},
   "outputs": [
    {
     "name": "stdout",
     "output_type": "stream",
     "text": [
      "0.9898089171974522\n",
      "              precision    recall  f1-score   support\n",
      "\n",
      "           0       1.00      1.00      1.00      1027\n",
      "           1       0.98      0.99      0.99       960\n",
      "           2       0.98      0.95      0.97       368\n",
      "\n",
      "    accuracy                           0.99      2355\n",
      "   macro avg       0.99      0.98      0.98      2355\n",
      "weighted avg       0.99      0.99      0.99      2355\n",
      "\n"
     ]
    }
   ],
   "source": [
    "print(accuracy_score(y_test, y_predict))\n",
    "print(classification_report(y_test, y_predict))"
   ]
  },
  {
   "cell_type": "code",
   "execution_count": 128,
   "metadata": {},
   "outputs": [
    {
     "name": "stdout",
     "output_type": "stream",
     "text": [
      "[[1027    0    0]\n",
      " [   0  954    6]\n",
      " [   0   18  350]]\n"
     ]
    },
    {
     "data": {
      "text/plain": [
       "Text(33.0, 0.5, 'ACTUAL')"
      ]
     },
     "execution_count": 128,
     "metadata": {},
     "output_type": "execute_result"
    },
    {
     "data": {
      "image/png": "[encoded data removed]",
      "text/plain": [
       "<Figure size 432x288 with 2 Axes>"
      ]
     },
     "metadata": {
      "needs_background": "light"
     },
     "output_type": "display_data"
    }
   ],
   "source": [
    "print(confusion_matrix(y_test, y_predict))\n",
    "sns.heatmap(confusion_matrix(y_test, y_predict), annot=True)\n",
    "plt.xlabel('PREDICT')\n",
    "plt.ylabel('ACTUAL')"
   ]
  },
  {
   "cell_type": "code",
   "execution_count": 129,
   "metadata": {},
   "outputs": [
    {
     "data": {
      "text/plain": [
       "{0: 0.7516277288395251, 1: 0.8202716823406478, 2: 2.2200226244343892}"
      ]
     },
     "execution_count": 129,
     "metadata": {},
     "output_type": "execute_result"
    }
   ],
   "source": [
    "class_weight = compute_class_weight(class_weight='balanced', classes=np.unique(target), y=target.values)\n",
    "class_weight_dict = dict(zip(range(len(class_weight.tolist())), class_weight.tolist()))\n",
    "class_weight_dict"
   ]
  },
  {
   "cell_type": "code",
   "execution_count": 130,
   "metadata": {},
   "outputs": [],
   "source": [
    "random_forest_weighted = RandomForestClassifier(random_state=2)\n"
   ]
  },
  {
   "cell_type": "code",
   "execution_count": 131,
   "metadata": {},
   "outputs": [],
   "source": [
    "random_forest_weighted.fit(X_train, y_train)\n",
    "y_predict = random_forest_weighted.predict(X_test)"
   ]
  },
  {
   "cell_type": "code",
   "execution_count": 132,
   "metadata": {},
   "outputs": [
    {
     "name": "stdout",
     "output_type": "stream",
     "text": [
      "0.9898089171974522\n",
      "              precision    recall  f1-score   support\n",
      "\n",
      "           0       1.00      1.00      1.00      1027\n",
      "           1       0.98      0.99      0.99       960\n",
      "           2       0.98      0.95      0.97       368\n",
      "\n",
      "    accuracy                           0.99      2355\n",
      "   macro avg       0.99      0.98      0.98      2355\n",
      "weighted avg       0.99      0.99      0.99      2355\n",
      "\n"
     ]
    }
   ],
   "source": [
    "print(accuracy_score(y_test, y_predict))\n",
    "print(classification_report(y_test, y_predict))"
   ]
  },
  {
   "cell_type": "code",
   "execution_count": 133,
   "metadata": {},
   "outputs": [
    {
     "name": "stdout",
     "output_type": "stream",
     "text": [
      "[[1027    0    0]\n",
      " [   0  954    6]\n",
      " [   0   18  350]]\n"
     ]
    },
    {
     "data": {
      "text/plain": [
       "Text(33.0, 0.5, 'ACTUAL')"
      ]
     },
     "execution_count": 133,
     "metadata": {},
     "output_type": "execute_result"
    },
    {
     "data": {
      "image/png": "[encoded data removed]",
      "text/plain": [
       "<Figure size 432x288 with 2 Axes>"
      ]
     },
     "metadata": {
      "needs_background": "light"
     },
     "output_type": "display_data"
    }
   ],
   "source": [
    "print(confusion_matrix(y_test, y_predict))\n",
    "sns.heatmap(confusion_matrix(y_test, y_predict), annot=True)\n",
    "plt.xlabel('PREDICT')\n",
    "plt.ylabel('ACTUAL')"
   ]
  },
  {
   "cell_type": "markdown",
   "metadata": {},
   "source": [
    "XGBoost model"
   ]
  },
  {
   "cell_type": "code",
   "execution_count": 136,
   "metadata": {},
   "outputs": [],
   "source": [
    "clf = XGBClassifier(max_depth=5,\n",
    "                    objective='multi:softprob',\n",
    "                    n_estimators=1000, \n",
    "                    )"
   ]
  },
  {
   "cell_type": "code",
   "execution_count": 137,
   "metadata": {},
   "outputs": [],
   "source": [
    "clf.fit(X_train, y_train)  \n",
    "y_predict = clf.predict(X_test)"
   ]
  },
  {
   "cell_type": "code",
   "execution_count": 138,
   "metadata": {},
   "outputs": [
    {
     "name": "stdout",
     "output_type": "stream",
     "text": [
      "0.9915074309978769\n",
      "              precision    recall  f1-score   support\n",
      "\n",
      "           0       1.00      1.00      1.00      1027\n",
      "           1       0.98      1.00      0.99       960\n",
      "           2       0.99      0.96      0.97       368\n",
      "\n",
      "    accuracy                           0.99      2355\n",
      "   macro avg       0.99      0.98      0.99      2355\n",
      "weighted avg       0.99      0.99      0.99      2355\n",
      "\n"
     ]
    }
   ],
   "source": [
    "print(accuracy_score(y_test, y_predict))\n",
    "print(classification_report(y_test, y_predict))\n"
   ]
  },
  {
   "cell_type": "code",
   "execution_count": 139,
   "metadata": {},
   "outputs": [
    {
     "name": "stdout",
     "output_type": "stream",
     "text": [
      "[[1027    0    0]\n",
      " [   0  956    4]\n",
      " [   0   16  352]]\n"
     ]
    },
    {
     "data": {
      "text/plain": [
       "Text(33.0, 0.5, 'ACTUAL')"
      ]
     },
     "execution_count": 139,
     "metadata": {},
     "output_type": "execute_result"
    },
    {
     "data": {
      "image/png": "[encoded data removed]",
      "text/plain": [
       "<Figure size 432x288 with 2 Axes>"
      ]
     },
     "metadata": {
      "needs_background": "light"
     },
     "output_type": "display_data"
    }
   ],
   "source": [
    "print(confusion_matrix(y_test, y_predict))\n",
    "sns.heatmap(confusion_matrix(y_test, y_predict), annot=True)\n",
    "plt.xlabel('PREDICT')\n",
    "plt.ylabel('ACTUAL')"
   ]
  }
 ],
 "metadata": {
  "kernelspec": {
   "display_name": "base",
   "language": "python",
   "name": "python3"
  },
  "language_info": {
   "codemirror_mode": {
    "name": "ipython",
    "version": 3
   },
   "file_extension": ".py",
   "mimetype": "text/x-python",
   "name": "python",
   "nbconvert_exporter": "python",
   "pygments_lexer": "ipython3",
   "version": "3.8.8"
  }
 },
 "nbformat": 4,
 "nbformat_minor": 2
}
